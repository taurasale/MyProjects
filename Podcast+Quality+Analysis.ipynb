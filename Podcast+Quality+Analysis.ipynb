{
 "cells": [
  {
   "cell_type": "markdown",
   "id": "495e92d4",
   "metadata": {},
   "source": [
    "# Introduction/ Welcome word."
   ]
  },
  {
   "cell_type": "markdown",
   "id": "55cd8a97",
   "metadata": {},
   "source": [
    "Hi! \n",
    "\n",
    "In this project I focused on conducting **statistical inference with Python** and strengthening SQL and Data Visualisation skills. It also included first touches to **Google Looker Studio**.\n",
    "\n",
    "For this purpose I worked with a Podcast Reviews Dataset, which has a SQLite database of over 2e6 Podcast Reviews. [Link to the Dataset](https://www.kaggle.com/datasets/thoughtvector/podcastreviews/versions/28)"
   ]
  },
  {
   "cell_type": "markdown",
   "id": "4518ede6",
   "metadata": {},
   "source": [
    "<span style=\"font-size: larger;\">**Project Problem:**</span>\n",
    "\n",
    "Sports have consistently taken a prominent spot in news coverage and other media. This prominence extends to sports podcasts as well. Despite the increasing number of podcasts being released, concerns persist regarding the quality, particularly when comparing podcasts from different subcategories.\n",
    "\n",
    "<span style=\"font-size: larger;\">**Proposed Solution:**</span>\n",
    "\n",
    "I propose addressing this issue by utilizing data analysis and statistical inference techniques. My objective is to examine podcast reviews across specific sports categories. Through this analysis, I aim to uncover valuable insights and draw conclusions regarding significant variations in both the quality and quantity of podcasts within these categories.\n",
    "\n"
   ]
  },
  {
   "cell_type": "markdown",
   "id": "b4f5c706",
   "metadata": {},
   "source": [
    "# Project approach/ objectives."
   ]
  },
  {
   "cell_type": "markdown",
   "id": "1b7886bb",
   "metadata": {},
   "source": [
    "My approach to this project follows a structured, step-by-step methodology grounded in\n",
    "data science best practices. Each stage is thoughtfully designed to build upon the previous,\n",
    "ensuring a cohesive and comprehensive solution:\n",
    "\n",
    "1. **Understand the Data.**  The first step involves a thorough understanding of the dataset, its\n",
    "variables, and its structure. This step is crucial for shaping the subsequent stages of the project.\n",
    "\n",
    "\n",
    "2. **Data Preprocessing.**  After understanding the dataset, we clean and preprocess the data.\n",
    "\n",
    "\n",
    "3. **Exploratory Data Analysis.** With selected features (based on domain knowledge and how they fit) this stage covers unearthing patterns, spotting anomalies, checking assumptions through visual and quantitative methods. It provides an in-depth understanding of the variables and their interrelationships.\n",
    "\n",
    "\n",
    "4. **Hypothesis testing.** After Data Analysis is completed, most interesting patterns will be thoroughly investigated using stastitical inference approach.\n",
    "\n",
    "\n",
    "5. **Presentation of dashboard.** This includes Google Looker Studio dashboard for the Sports Podcast performance review for the year of 2022."
   ]
  },
  {
   "cell_type": "markdown",
   "id": "5caad2df",
   "metadata": {},
   "source": [
    "# Standards and Assumptions."
   ]
  },
  {
   "cell_type": "markdown",
   "id": "89bde4a5",
   "metadata": {},
   "source": [
    "1. Text of Podcasts Reviews will not be analyzed using any NLP packages/ techniques. This project focuses solely on Statistical Inference, on writing quality SQL queries and creating visualy appealing visualizations.\n",
    "\n",
    "\n",
    "2. Google Looker Studio Dashboard will be presented after the Jupyter Notebook presentation. This focuses solely on selected categories of podcasts for the desired year.\n",
    "\n",
    "\n",
    "3. The idea that Capital Letters and Special Characters might indicate frustration in the review content is a personal assumption, and it's just an opinion that stems from personal knowledge. This viewpoint is open for discussion. If statistical significance or trend will be found this could be a potential variable for the classical machine learning alhorithm that classifies sentiments (Random Forest Classifier, Logistical Regression or etc.)\n",
    "\n",
    "\n",
    "4. In this project I did not touch a 'sports' category, instead I focused on more specific ones. Although I understand that sports category can contain 'bastkeball' podcasts, this will not be investigated and I will believe that all relevant information lies within subcategories.\n",
    "\n",
    "\n",
    "5. T-Tests (which will be conducted) rely on assumption of normal distribution for the sample. However due to large sample size, I will rely on CLT and ignore this assumption.\n",
    "\n",
    "\n",
    "6. Instead of giving a lot of attention to date feature, I decided to take a different look and focused on how to prepare this data for other steps (like ML modelling)."
   ]
  },
  {
   "cell_type": "markdown",
   "id": "f2db6aea",
   "metadata": {},
   "source": [
    "# Data Preprocessing."
   ]
  },
  {
   "cell_type": "markdown",
   "id": "63447386",
   "metadata": {},
   "source": [
    "This section involves:\n",
    "* **Data Collection** (Importing necessary libraries, retrieving the dataset, reading the dataset in the Pandas DataFrame);\n",
    "* **Data Understanding** (descriptive statistics, purpose of different features);\n",
    "* **Data Cleaning.**"
   ]
  },
  {
   "cell_type": "markdown",
   "id": "14f68507",
   "metadata": {},
   "source": [
    "## Data Collection."
   ]
  },
  {
   "cell_type": "code",
   "execution_count": 51,
   "id": "f627fb80",
   "metadata": {
    "code_folding": [
     0
    ]
   },
   "outputs": [],
   "source": [
    "# Importing all necessary libraries and packages;\n",
    "import numpy as np\n",
    "import pandas as pd\n",
    "import matplotlib\n",
    "import matplotlib.pyplot as plt\n",
    "import seaborn as sns\n",
    "import sqlite3\n",
    "from pandas_profiling import ProfileReport\n",
    "from scipy.stats import chi2_contingency\n",
    "from scipy.stats import ttest_ind\n",
    "import statsmodels.api as sm\n",
    "import scipy.stats.distributions as dist\n",
    "import researchpy\n",
    "import warnings\n",
    "import plotly.express as px\n",
    "from scipy import stats\n",
    "from functools import reduce\n",
    "from pivottablejs import pivot_ui\n",
    "import re\n",
    "%matplotlib inline\n",
    "import warnings\n",
    "warnings.filterwarnings(\"ignore\")"
   ]
  },
  {
   "cell_type": "code",
   "execution_count": 43,
   "id": "e7eca631",
   "metadata": {},
   "outputs": [],
   "source": [
    "con = sqlite3.connect('./database.sqlite')"
   ]
  },
  {
   "cell_type": "markdown",
   "id": "e622d6b8",
   "metadata": {},
   "source": [
    "The SQLite Dataset **contains 4 tables** - Reviews, Categories, Podcasts and Runs.\n",
    "\n",
    "Although information from **Runs table will not be used for this project** (it displays information about when which podcast reviews had been added to the Dataset, so it does not provide any added value)."
   ]
  },
  {
   "cell_type": "code",
   "execution_count": 44,
   "id": "55018980",
   "metadata": {},
   "outputs": [],
   "source": [
    "podcasts = pd.read_sql(\"SELECT * FROM podcasts\", con)\n",
    "reviews = pd.read_sql(\"SELECT * FROM reviews\", con)\n",
    "categories = pd.read_sql(\"SELECT * FROM categories\", con)"
   ]
  },
  {
   "cell_type": "code",
   "execution_count": 45,
   "id": "5d08ee13",
   "metadata": {},
   "outputs": [
    {
     "data": {
      "text/html": [
       "<div>\n",
       "<style scoped>\n",
       "    .dataframe tbody tr th:only-of-type {\n",
       "        vertical-align: middle;\n",
       "    }\n",
       "\n",
       "    .dataframe tbody tr th {\n",
       "        vertical-align: top;\n",
       "    }\n",
       "\n",
       "    .dataframe thead th {\n",
       "        text-align: right;\n",
       "    }\n",
       "</style>\n",
       "<table border=\"1\" class=\"dataframe\">\n",
       "  <thead>\n",
       "    <tr style=\"text-align: right;\">\n",
       "      <th></th>\n",
       "      <th>podcast_id</th>\n",
       "      <th>itunes_id</th>\n",
       "      <th>slug</th>\n",
       "      <th>itunes_url</th>\n",
       "      <th>title</th>\n",
       "    </tr>\n",
       "  </thead>\n",
       "  <tbody>\n",
       "    <tr>\n",
       "      <th>0</th>\n",
       "      <td>a00018b54eb342567c94dacfb2a3e504</td>\n",
       "      <td>1313466221</td>\n",
       "      <td>scaling-global</td>\n",
       "      <td>https://podcasts.apple.com/us/podcast/scaling-...</td>\n",
       "      <td>Scaling Global</td>\n",
       "    </tr>\n",
       "    <tr>\n",
       "      <th>1</th>\n",
       "      <td>a00043d34e734b09246d17dc5d56f63c</td>\n",
       "      <td>158973461</td>\n",
       "      <td>cornerstone-baptist-church-of-orlando</td>\n",
       "      <td>https://podcasts.apple.com/us/podcast/cornerst...</td>\n",
       "      <td>Cornerstone Baptist Church of Orlando</td>\n",
       "    </tr>\n",
       "  </tbody>\n",
       "</table>\n",
       "</div>"
      ],
      "text/plain": [
       "                         podcast_id   itunes_id  \\\n",
       "0  a00018b54eb342567c94dacfb2a3e504  1313466221   \n",
       "1  a00043d34e734b09246d17dc5d56f63c   158973461   \n",
       "\n",
       "                                    slug  \\\n",
       "0                         scaling-global   \n",
       "1  cornerstone-baptist-church-of-orlando   \n",
       "\n",
       "                                          itunes_url  \\\n",
       "0  https://podcasts.apple.com/us/podcast/scaling-...   \n",
       "1  https://podcasts.apple.com/us/podcast/cornerst...   \n",
       "\n",
       "                                   title  \n",
       "0                         Scaling Global  \n",
       "1  Cornerstone Baptist Church of Orlando  "
      ]
     },
     "execution_count": 45,
     "metadata": {},
     "output_type": "execute_result"
    }
   ],
   "source": [
    "podcasts.head(2)"
   ]
  },
  {
   "cell_type": "code",
   "execution_count": 6,
   "id": "703c1549",
   "metadata": {},
   "outputs": [
    {
     "data": {
      "text/plain": [
       "110024"
      ]
     },
     "execution_count": 6,
     "metadata": {},
     "output_type": "execute_result"
    }
   ],
   "source": [
    "podcasts.podcast_id.nunique()"
   ]
  },
  {
   "cell_type": "code",
   "execution_count": 7,
   "id": "fa9198f3",
   "metadata": {},
   "outputs": [
    {
     "data": {
      "text/plain": [
       "109274"
      ]
     },
     "execution_count": 7,
     "metadata": {},
     "output_type": "execute_result"
    }
   ],
   "source": [
    "podcasts.title.nunique()"
   ]
  },
  {
   "cell_type": "markdown",
   "id": "b651da41",
   "metadata": {},
   "source": [
    "**It turns out there are reviews of 110 024 unique podcasts. Although I will have to keep in mind that around 900 podcasts have overlapping names. Most popular are displayed below.**"
   ]
  },
  {
   "cell_type": "code",
   "execution_count": 8,
   "id": "63b62a0a",
   "metadata": {},
   "outputs": [
    {
     "data": {
      "text/plain": [
       "No Title              8\n",
       "Guided Meditations    4\n",
       "Welcome Home          4\n",
       "Office Hours          4\n",
       "What's Next?          4\n",
       "Name: title, dtype: int64"
      ]
     },
     "execution_count": 8,
     "metadata": {},
     "output_type": "execute_result"
    }
   ],
   "source": [
    "podcasts.title.value_counts().head(5)"
   ]
  },
  {
   "cell_type": "markdown",
   "id": "173ce52f",
   "metadata": {},
   "source": [
    "Let's proceed with another tables."
   ]
  },
  {
   "cell_type": "code",
   "execution_count": 10,
   "id": "86c1ffa7",
   "metadata": {
    "scrolled": true
   },
   "outputs": [
    {
     "data": {
      "text/html": [
       "<div>\n",
       "<style scoped>\n",
       "    .dataframe tbody tr th:only-of-type {\n",
       "        vertical-align: middle;\n",
       "    }\n",
       "\n",
       "    .dataframe tbody tr th {\n",
       "        vertical-align: top;\n",
       "    }\n",
       "\n",
       "    .dataframe thead th {\n",
       "        text-align: right;\n",
       "    }\n",
       "</style>\n",
       "<table border=\"1\" class=\"dataframe\">\n",
       "  <thead>\n",
       "    <tr style=\"text-align: right;\">\n",
       "      <th></th>\n",
       "      <th>podcast_id</th>\n",
       "      <th>category</th>\n",
       "    </tr>\n",
       "  </thead>\n",
       "  <tbody>\n",
       "    <tr>\n",
       "      <th>0</th>\n",
       "      <td>c61aa81c9b929a66f0c1db6cbe5d8548</td>\n",
       "      <td>arts</td>\n",
       "    </tr>\n",
       "  </tbody>\n",
       "</table>\n",
       "</div>"
      ],
      "text/plain": [
       "                         podcast_id category\n",
       "0  c61aa81c9b929a66f0c1db6cbe5d8548     arts"
      ]
     },
     "execution_count": 10,
     "metadata": {},
     "output_type": "execute_result"
    }
   ],
   "source": [
    "categories.head(1)"
   ]
  },
  {
   "cell_type": "code",
   "execution_count": 11,
   "id": "6a0fe3cf",
   "metadata": {},
   "outputs": [
    {
     "data": {
      "text/plain": [
       "(212372, 2)"
      ]
     },
     "execution_count": 11,
     "metadata": {},
     "output_type": "execute_result"
    }
   ],
   "source": [
    "categories.shape"
   ]
  },
  {
   "cell_type": "code",
   "execution_count": 12,
   "id": "40c0eccf",
   "metadata": {
    "scrolled": true
   },
   "outputs": [
    {
     "data": {
      "text/html": [
       "<div>\n",
       "<style scoped>\n",
       "    .dataframe tbody tr th:only-of-type {\n",
       "        vertical-align: middle;\n",
       "    }\n",
       "\n",
       "    .dataframe tbody tr th {\n",
       "        vertical-align: top;\n",
       "    }\n",
       "\n",
       "    .dataframe thead th {\n",
       "        text-align: right;\n",
       "    }\n",
       "</style>\n",
       "<table border=\"1\" class=\"dataframe\">\n",
       "  <thead>\n",
       "    <tr style=\"text-align: right;\">\n",
       "      <th></th>\n",
       "      <th>podcast_id</th>\n",
       "      <th>title</th>\n",
       "      <th>content</th>\n",
       "      <th>rating</th>\n",
       "      <th>author_id</th>\n",
       "      <th>created_at</th>\n",
       "    </tr>\n",
       "  </thead>\n",
       "  <tbody>\n",
       "    <tr>\n",
       "      <th>0</th>\n",
       "      <td>c61aa81c9b929a66f0c1db6cbe5d8548</td>\n",
       "      <td>really interesting!</td>\n",
       "      <td>Thanks for providing these insights.  Really e...</td>\n",
       "      <td>5</td>\n",
       "      <td>F7E5A318989779D</td>\n",
       "      <td>2018-04-24T12:05:16-07:00</td>\n",
       "    </tr>\n",
       "  </tbody>\n",
       "</table>\n",
       "</div>"
      ],
      "text/plain": [
       "                         podcast_id                title  \\\n",
       "0  c61aa81c9b929a66f0c1db6cbe5d8548  really interesting!   \n",
       "\n",
       "                                             content  rating        author_id  \\\n",
       "0  Thanks for providing these insights.  Really e...       5  F7E5A318989779D   \n",
       "\n",
       "                  created_at  \n",
       "0  2018-04-24T12:05:16-07:00  "
      ]
     },
     "execution_count": 12,
     "metadata": {},
     "output_type": "execute_result"
    }
   ],
   "source": [
    "reviews.head(1)"
   ]
  },
  {
   "cell_type": "code",
   "execution_count": 13,
   "id": "45785b4f",
   "metadata": {},
   "outputs": [
    {
     "data": {
      "text/plain": [
       "bf5bf76d5b6ffbf9a31bba4480383b7f    33104\n",
       "bc5ddad3898e0973eb541577d1df8004    10675\n",
       "bad6c91efdbee814db985c7a65199604     9698\n",
       "f5fce0325ac6a4bf5e191d6608b95797     8248\n",
       "f2377a9b0d9a2e0fb05c3dad55759328     7389\n",
       "Name: podcast_id, dtype: int64"
      ]
     },
     "execution_count": 13,
     "metadata": {},
     "output_type": "execute_result"
    }
   ],
   "source": [
    "reviews.podcast_id.value_counts().head()"
   ]
  },
  {
   "cell_type": "code",
   "execution_count": 14,
   "id": "cd4a8c50",
   "metadata": {},
   "outputs": [
    {
     "data": {
      "text/plain": [
       "(2067529, 6)"
      ]
     },
     "execution_count": 14,
     "metadata": {},
     "output_type": "execute_result"
    }
   ],
   "source": [
    "reviews.shape"
   ]
  },
  {
   "cell_type": "markdown",
   "id": "14e59d86",
   "metadata": {},
   "source": [
    "**Indeed there are over 2 million reviews and some podcasts have been reviewed more than 33k times. Also it turns out that some of the podcasts are assigned to more than one category.**"
   ]
  },
  {
   "cell_type": "markdown",
   "id": "90fd60f2",
   "metadata": {},
   "source": [
    "## Data Understanding."
   ]
  },
  {
   "cell_type": "markdown",
   "id": "56134468",
   "metadata": {},
   "source": [
    "To fully understand the data I will be working with, first I will query it into a dataset that will be used for future analysis.\n",
    "\n",
    "**Important Note**: \n",
    "\n",
    "There's slightly over 2 million reviews and 100k+ unique podcasts, so to have adequate representation of the situation, I will additionally create two columns - **Mean Podcast Rating** and **Times Reviewed**."
   ]
  },
  {
   "cell_type": "code",
   "execution_count": 46,
   "id": "dd1dfb62",
   "metadata": {
    "code_folding": [
     0
    ]
   },
   "outputs": [],
   "source": [
    "# Query average ratings and how many times a podcast had been reviewed;\n",
    "total_reviews = pd.read_sql_query('''\n",
    "SELECT  r.podcast_id AS podcast_id,\n",
    "        p.title AS podcast_title,\n",
    "        COUNT(*) AS times_reviewed,\n",
    "        AVG(r.rating) AS mean_rating\n",
    "FROM reviews r\n",
    "JOIN podcasts p\n",
    "ON p.podcast_id = r.podcast_id\n",
    "GROUP BY r.podcast_id, p.title\n",
    "''', con)"
   ]
  },
  {
   "cell_type": "markdown",
   "id": "2300687c",
   "metadata": {},
   "source": [
    "**Let's take a look at how distributed are podcast reviews across mean ratings.**"
   ]
  },
  {
   "cell_type": "code",
   "execution_count": 47,
   "id": "6555fe36",
   "metadata": {
    "code_folding": [
     0
    ]
   },
   "outputs": [
    {
     "data": {
      "image/png": "[encoded data removed]",
      "text/plain": [
       "<Figure size 500x500 with 3 Axes>"
      ]
     },
     "metadata": {},
     "output_type": "display_data"
    }
   ],
   "source": [
    "# Code\n",
    "most_views = total_reviews.nlargest(50, 'times_reviewed')\n",
    "sns.jointplot(data=most_views, x='mean_rating', y='times_reviewed', kind='hex', height=5, ratio=3, marginal_ticks=True, palette=\"gist_earth\")\n",
    "plt.xlabel(\"Mean Rating\")\n",
    "plt.ylabel(\"Times reviewed\")\n",
    "plt.title(\"\\nTimes Reviewed vs. Mean Ratings\\n\", fontsize=13)\n",
    "plt.tight_layout()"
   ]
  },
  {
   "cell_type": "markdown",
   "id": "32af1920",
   "metadata": {},
   "source": [
    "**Couple of things can already be concluded:**\n",
    "1. Majority of podcasts were rated as 5;\n",
    "2. Majority of podcasts have been reviewed less than 10 000 times;\n",
    "3. Most common podcasts are of two major types:\n",
    "    * Has less than 5k reviews and mean rating is above 4.5. \n",
    "    * Has mean rating of around 3.5 and less than 5k reviews.\n",
    "4. A podcast with slightly over 30k reviews is a clear outlier."
   ]
  },
  {
   "cell_type": "markdown",
   "id": "e0f418fc",
   "metadata": {},
   "source": [
    "Now let's take a look, which podcasts were the most popular (reviewed most times) and how they perform rating wise."
   ]
  },
  {
   "cell_type": "code",
   "execution_count": 59,
   "id": "6b4e2ebe",
   "metadata": {
    "code_folding": [
     0
    ]
   },
   "outputs": [
    {
     "data": {
      "application/vnd.plotly.v1+json": {
       "config": {
        "plotlyServerURL": "https://plot.ly"
       },
       "data": [
        {
         "alignmentgroup": "True",
         "hovertemplate": "Mean Rating=%{x}<br>=%{y}<br>Times Reviewed=%{marker.color}<extra></extra>",
         "legendgroup": "",
         "marker": {
          "color": [
           33104,
           10675,
           9698,
           8248,
           7389,
           7310,
           5537,
           5099,
           5059,
           4666
          ],
          "coloraxis": "coloraxis",
          "pattern": {
           "shape": ""
          }
         },
         "name": "",
         "offsetgroup": "",
         "orientation": "h",
         "showlegend": false,
         "textposition": "auto",
         "type": "bar",
         "x": [
          4.274981875302078,
          3.605714285714286,
          4.7762425242318,
          3.8012851600387974,
          4.735552848829341,
          4.207797537619699,
          3.3440491240744086,
          4.92880957050402,
          4.9835935955722475,
          4.822974710672954
         ],
         "xaxis": "x",
         "y": [
          "Crime Junkie",
          "My Favorite Murder with Karen Kilgariff and Georgia Hardstark",
          "Wow in the World",
          "The Ben Shapiro Show",
          "Story Pirates",
          "True Crime Obsessed",
          "The Daily",
          "Crime in Sports",
          "Know Your Aura with Mystic Michaela",
          "FantasyPros - Fantasy Football Podcast"
         ],
         "yaxis": "y"
        }
       ],
       "layout": {
        "barmode": "relative",
        "coloraxis": {
         "colorbar": {
          "title": {
           "text": "Times Reviewed"
          }
         },
         "colorscale": [
          [
           0,
           "#00224e"
          ],
          [
           0.1111111111111111,
           "#123570"
          ],
          [
           0.2222222222222222,
           "#3b496c"
          ],
          [
           0.3333333333333333,
           "#575d6d"
          ],
          [
           0.4444444444444444,
           "#707173"
          ],
          [
           0.5555555555555556,
           "#8a8678"
          ],
          [
           0.6666666666666666,
           "#a59c74"
          ],
          [
           0.7777777777777778,
           "#c3b369"
          ],
          [
           0.8888888888888888,
           "#e1cc55"
          ],
          [
           1,
           "#fee838"
          ]
         ]
        },
        "legend": {
         "tracegroupgap": 0
        },
        "template": {
         "data": {
          "bar": [
           {
            "error_x": {
             "color": "#2a3f5f"
            },
            "error_y": {
             "color": "#2a3f5f"
            },
            "marker": {
             "line": {
              "color": "#E5ECF6",
              "width": 0.5
             },
             "pattern": {
              "fillmode": "overlay",
              "size": 10,
              "solidity": 0.2
             }
            },
            "type": "bar"
           }
          ],
          "barpolar": [
           {
            "marker": {
             "line": {
              "color": "#E5ECF6",
              "width": 0.5
             },
             "pattern": {
              "fillmode": "overlay",
              "size": 10,
              "solidity": 0.2
             }
            },
            "type": "barpolar"
           }
          ],
          "carpet": [
           {
            "aaxis": {
             "endlinecolor": "#2a3f5f",
             "gridcolor": "white",
             "linecolor": "white",
             "minorgridcolor": "white",
             "startlinecolor": "#2a3f5f"
            },
            "baxis": {
             "endlinecolor": "#2a3f5f",
             "gridcolor": "white",
             "linecolor": "white",
             "minorgridcolor": "white",
             "startlinecolor": "#2a3f5f"
            },
            "type": "carpet"
           }
          ],
          "choropleth": [
           {
            "colorbar": {
             "outlinewidth": 0,
             "ticks": ""
            },
            "type": "choropleth"
           }
          ],
          "contour": [
           {
            "colorbar": {
             "outlinewidth": 0,
             "ticks": ""
            },
            "colorscale": [
             [
              0,
              "#0d0887"
             ],
             [
              0.1111111111111111,
              "#46039f"
             ],
             [
              0.2222222222222222,
              "#7201a8"
             ],
             [
              0.3333333333333333,
              "#9c179e"
             ],
             [
              0.4444444444444444,
              "#bd3786"
             ],
             [
              0.5555555555555556,
              "#d8576b"
             ],
             [
              0.6666666666666666,
              "#ed7953"
             ],
             [
              0.7777777777777778,
              "#fb9f3a"
             ],
             [
              0.8888888888888888,
              "#fdca26"
             ],
             [
              1,
              "#f0f921"
             ]
            ],
            "type": "contour"
           }
          ],
          "contourcarpet": [
           {
            "colorbar": {
             "outlinewidth": 0,
             "ticks": ""
            },
            "type": "contourcarpet"
           }
          ],
          "heatmap": [
           {
            "colorbar": {
             "outlinewidth": 0,
             "ticks": ""
            },
            "colorscale": [
             [
              0,
              "#0d0887"
             ],
             [
              0.1111111111111111,
              "#46039f"
             ],
             [
              0.2222222222222222,
              "#7201a8"
             ],
             [
              0.3333333333333333,
              "#9c179e"
             ],
             [
              0.4444444444444444,
              "#bd3786"
             ],
             [
              0.5555555555555556,
              "#d8576b"
             ],
             [
              0.6666666666666666,
              "#ed7953"
             ],
             [
              0.7777777777777778,
              "#fb9f3a"
             ],
             [
              0.8888888888888888,
              "#fdca26"
             ],
             [
              1,
              "#f0f921"
             ]
            ],
            "type": "heatmap"
           }
          ],
          "heatmapgl": [
           {
            "colorbar": {
             "outlinewidth": 0,
             "ticks": ""
            },
            "colorscale": [
             [
              0,
              "#0d0887"
             ],
             [
              0.1111111111111111,
              "#46039f"
             ],
             [
              0.2222222222222222,
              "#7201a8"
             ],
             [
              0.3333333333333333,
              "#9c179e"
             ],
             [
              0.4444444444444444,
              "#bd3786"
             ],
             [
              0.5555555555555556,
              "#d8576b"
             ],
             [
              0.6666666666666666,
              "#ed7953"
             ],
             [
              0.7777777777777778,
              "#fb9f3a"
             ],
             [
              0.8888888888888888,
              "#fdca26"
             ],
             [
              1,
              "#f0f921"
             ]
            ],
            "type": "heatmapgl"
           }
          ],
          "histogram": [
           {
            "marker": {
             "pattern": {
              "fillmode": "overlay",
              "size": 10,
              "solidity": 0.2
             }
            },
            "type": "histogram"
           }
          ],
          "histogram2d": [
           {
            "colorbar": {
             "outlinewidth": 0,
             "ticks": ""
            },
            "colorscale": [
             [
              0,
              "#0d0887"
             ],
             [
              0.1111111111111111,
              "#46039f"
             ],
             [
              0.2222222222222222,
              "#7201a8"
             ],
             [
              0.3333333333333333,
              "#9c179e"
             ],
             [
              0.4444444444444444,
              "#bd3786"
             ],
             [
              0.5555555555555556,
              "#d8576b"
             ],
             [
              0.6666666666666666,
              "#ed7953"
             ],
             [
              0.7777777777777778,
              "#fb9f3a"
             ],
             [
              0.8888888888888888,
              "#fdca26"
             ],
             [
              1,
              "#f0f921"
             ]
            ],
            "type": "histogram2d"
           }
          ],
          "histogram2dcontour": [
           {
            "colorbar": {
             "outlinewidth": 0,
             "ticks": ""
            },
            "colorscale": [
             [
              0,
              "#0d0887"
             ],
             [
              0.1111111111111111,
              "#46039f"
             ],
             [
              0.2222222222222222,
              "#7201a8"
             ],
             [
              0.3333333333333333,
              "#9c179e"
             ],
             [
              0.4444444444444444,
              "#bd3786"
             ],
             [
              0.5555555555555556,
              "#d8576b"
             ],
             [
              0.6666666666666666,
              "#ed7953"
             ],
             [
              0.7777777777777778,
              "#fb9f3a"
             ],
             [
              0.8888888888888888,
              "#fdca26"
             ],
             [
              1,
              "#f0f921"
             ]
            ],
            "type": "histogram2dcontour"
           }
          ],
          "mesh3d": [
           {
            "colorbar": {
             "outlinewidth": 0,
             "ticks": ""
            },
            "type": "mesh3d"
           }
          ],
          "parcoords": [
           {
            "line": {
             "colorbar": {
              "outlinewidth": 0,
              "ticks": ""
             }
            },
            "type": "parcoords"
           }
          ],
          "pie": [
           {
            "automargin": true,
            "type": "pie"
           }
          ],
          "scatter": [
           {
            "fillpattern": {
             "fillmode": "overlay",
             "size": 10,
             "solidity": 0.2
            },
            "type": "scatter"
           }
          ],
          "scatter3d": [
           {
            "line": {
             "colorbar": {
              "outlinewidth": 0,
              "ticks": ""
             }
            },
            "marker": {
             "colorbar": {
              "outlinewidth": 0,
              "ticks": ""
             }
            },
            "type": "scatter3d"
           }
          ],
          "scattercarpet": [
           {
            "marker": {
             "colorbar": {
              "outlinewidth": 0,
              "ticks": ""
             }
            },
            "type": "scattercarpet"
           }
          ],
          "scattergeo": [
           {
            "marker": {
             "colorbar": {
              "outlinewidth": 0,
              "ticks": ""
             }
            },
            "type": "scattergeo"
           }
          ],
          "scattergl": [
           {
            "marker": {
             "colorbar": {
              "outlinewidth": 0,
              "ticks": ""
             }
            },
            "type": "scattergl"
           }
          ],
          "scattermapbox": [
           {
            "marker": {
             "colorbar": {
              "outlinewidth": 0,
              "ticks": ""
             }
            },
            "type": "scattermapbox"
           }
          ],
          "scatterpolar": [
           {
            "marker": {
             "colorbar": {
              "outlinewidth": 0,
              "ticks": ""
             }
            },
            "type": "scatterpolar"
           }
          ],
          "scatterpolargl": [
           {
            "marker": {
             "colorbar": {
              "outlinewidth": 0,
              "ticks": ""
             }
            },
            "type": "scatterpolargl"
           }
          ],
          "scatterternary": [
           {
            "marker": {
             "colorbar": {
              "outlinewidth": 0,
              "ticks": ""
             }
            },
            "type": "scatterternary"
           }
          ],
          "surface": [
           {
            "colorbar": {
             "outlinewidth": 0,
             "ticks": ""
            },
            "colorscale": [
             [
              0,
              "#0d0887"
             ],
             [
              0.1111111111111111,
              "#46039f"
             ],
             [
              0.2222222222222222,
              "#7201a8"
             ],
             [
              0.3333333333333333,
              "#9c179e"
             ],
             [
              0.4444444444444444,
              "#bd3786"
             ],
             [
              0.5555555555555556,
              "#d8576b"
             ],
             [
              0.6666666666666666,
              "#ed7953"
             ],
             [
              0.7777777777777778,
              "#fb9f3a"
             ],
             [
              0.8888888888888888,
              "#fdca26"
             ],
             [
              1,
              "#f0f921"
             ]
            ],
            "type": "surface"
           }
          ],
          "table": [
           {
            "cells": {
             "fill": {
              "color": "#EBF0F8"
             },
             "line": {
              "color": "white"
             }
            },
            "header": {
             "fill": {
              "color": "#C8D4E3"
             },
             "line": {
              "color": "white"
             }
            },
            "type": "table"
           }
          ]
         },
         "layout": {
          "annotationdefaults": {
           "arrowcolor": "#2a3f5f",
           "arrowhead": 0,
           "arrowwidth": 1
          },
          "autotypenumbers": "strict",
          "coloraxis": {
           "colorbar": {
            "outlinewidth": 0,
            "ticks": ""
           }
          },
          "colorscale": {
           "diverging": [
            [
             0,
             "#8e0152"
            ],
            [
             0.1,
             "#c51b7d"
            ],
            [
             0.2,
             "#de77ae"
            ],
            [
             0.3,
             "#f1b6da"
            ],
            [
             0.4,
             "#fde0ef"
            ],
            [
             0.5,
             "#f7f7f7"
            ],
            [
             0.6,
             "#e6f5d0"
            ],
            [
             0.7,
             "#b8e186"
            ],
            [
             0.8,
             "#7fbc41"
            ],
            [
             0.9,
             "#4d9221"
            ],
            [
             1,
             "#276419"
            ]
           ],
           "sequential": [
            [
             0,
             "#0d0887"
            ],
            [
             0.1111111111111111,
             "#46039f"
            ],
            [
             0.2222222222222222,
             "#7201a8"
            ],
            [
             0.3333333333333333,
             "#9c179e"
            ],
            [
             0.4444444444444444,
             "#bd3786"
            ],
            [
             0.5555555555555556,
             "#d8576b"
            ],
            [
             0.6666666666666666,
             "#ed7953"
            ],
            [
             0.7777777777777778,
             "#fb9f3a"
            ],
            [
             0.8888888888888888,
             "#fdca26"
            ],
            [
             1,
             "#f0f921"
            ]
           ],
           "sequentialminus": [
            [
             0,
             "#0d0887"
            ],
            [
             0.1111111111111111,
             "#46039f"
            ],
            [
             0.2222222222222222,
             "#7201a8"
            ],
            [
             0.3333333333333333,
             "#9c179e"
            ],
            [
             0.4444444444444444,
             "#bd3786"
            ],
            [
             0.5555555555555556,
             "#d8576b"
            ],
            [
             0.6666666666666666,
             "#ed7953"
            ],
            [
             0.7777777777777778,
             "#fb9f3a"
            ],
            [
             0.8888888888888888,
             "#fdca26"
            ],
            [
             1,
             "#f0f921"
            ]
           ]
          },
          "colorway": [
           "#636efa",
           "#EF553B",
           "#00cc96",
           "#ab63fa",
           "#FFA15A",
           "#19d3f3",
           "#FF6692",
           "#B6E880",
           "#FF97FF",
           "#FECB52"
          ],
          "font": {
           "color": "#2a3f5f"
          },
          "geo": {
           "bgcolor": "white",
           "lakecolor": "white",
           "landcolor": "#E5ECF6",
           "showlakes": true,
           "showland": true,
           "subunitcolor": "white"
          },
          "hoverlabel": {
           "align": "left"
          },
          "hovermode": "closest",
          "mapbox": {
           "style": "light"
          },
          "paper_bgcolor": "white",
          "plot_bgcolor": "#E5ECF6",
          "polar": {
           "angularaxis": {
            "gridcolor": "white",
            "linecolor": "white",
            "ticks": ""
           },
           "bgcolor": "#E5ECF6",
           "radialaxis": {
            "gridcolor": "white",
            "linecolor": "white",
            "ticks": ""
           }
          },
          "scene": {
           "xaxis": {
            "backgroundcolor": "#E5ECF6",
            "gridcolor": "white",
            "gridwidth": 2,
            "linecolor": "white",
            "showbackground": true,
            "ticks": "",
            "zerolinecolor": "white"
           },
           "yaxis": {
            "backgroundcolor": "#E5ECF6",
            "gridcolor": "white",
            "gridwidth": 2,
            "linecolor": "white",
            "showbackground": true,
            "ticks": "",
            "zerolinecolor": "white"
           },
           "zaxis": {
            "backgroundcolor": "#E5ECF6",
            "gridcolor": "white",
            "gridwidth": 2,
            "linecolor": "white",
            "showbackground": true,
            "ticks": "",
            "zerolinecolor": "white"
           }
          },
          "shapedefaults": {
           "line": {
            "color": "#2a3f5f"
           }
          },
          "ternary": {
           "aaxis": {
            "gridcolor": "white",
            "linecolor": "white",
            "ticks": ""
           },
           "baxis": {
            "gridcolor": "white",
            "linecolor": "white",
            "ticks": ""
           },
           "bgcolor": "#E5ECF6",
           "caxis": {
            "gridcolor": "white",
            "linecolor": "white",
            "ticks": ""
           }
          },
          "title": {
           "x": 0.05
          },
          "xaxis": {
           "automargin": true,
           "gridcolor": "white",
           "linecolor": "white",
           "ticks": "",
           "title": {
            "standoff": 15
           },
           "zerolinecolor": "white",
           "zerolinewidth": 2
          },
          "yaxis": {
           "automargin": true,
           "gridcolor": "white",
           "linecolor": "white",
           "ticks": "",
           "title": {
            "standoff": 15
           },
           "zerolinecolor": "white",
           "zerolinewidth": 2
          }
         }
        },
        "title": {
         "text": "TOP Podcasts by Mean Rating and Times Reviewed"
        },
        "xaxis": {
         "anchor": "y",
         "domain": [
          0,
          1
         ],
         "title": {
          "text": "Mean Rating"
         }
        },
        "yaxis": {
         "anchor": "x",
         "domain": [
          0,
          1
         ],
         "title": {
          "text": ""
         }
        }
       }
      },
      "text/html": [
       "<div>                            <div id=\"ff05cfb6-8413-4734-9786-e7161de1ddb9\" class=\"plotly-graph-div\" style=\"height:525px; width:100%;\"></div>            <script type=\"text/javascript\">                require([\"plotly\"], function(Plotly) {                    window.PLOTLYENV=window.PLOTLYENV || {};                                    if (document.getElementById(\"ff05cfb6-8413-4734-9786-e7161de1ddb9\")) {                    Plotly.newPlot(                        \"ff05cfb6-8413-4734-9786-e7161de1ddb9\",                        [{\"alignmentgroup\":\"True\",\"hovertemplate\":\"Mean Rating=%{x}<br>=%{y}<br>Times Reviewed=%{marker.color}<extra></extra>\",\"legendgroup\":\"\",\"marker\":{\"color\":[33104,10675,9698,8248,7389,7310,5537,5099,5059,4666],\"coloraxis\":\"coloraxis\",\"pattern\":{\"shape\":\"\"}},\"name\":\"\",\"offsetgroup\":\"\",\"orientation\":\"h\",\"showlegend\":false,\"textposition\":\"auto\",\"x\":[4.274981875302078,3.605714285714286,4.7762425242318,3.8012851600387974,4.735552848829341,4.207797537619699,3.3440491240744086,4.92880957050402,4.9835935955722475,4.822974710672954],\"xaxis\":\"x\",\"y\":[\"Crime Junkie\",\"My Favorite Murder with Karen Kilgariff and Georgia Hardstark\",\"Wow in the World\",\"The Ben Shapiro Show\",\"Story Pirates\",\"True Crime Obsessed\",\"The Daily\",\"Crime in Sports\",\"Know Your Aura with Mystic Michaela\",\"FantasyPros - Fantasy Football Podcast\"],\"yaxis\":\"y\",\"type\":\"bar\"}],                        {\"template\":{\"data\":{\"histogram2dcontour\":[{\"type\":\"histogram2dcontour\",\"colorbar\":{\"outlinewidth\":0,\"ticks\":\"\"},\"colorscale\":[[0.0,\"#0d0887\"],[0.1111111111111111,\"#46039f\"],[0.2222222222222222,\"#7201a8\"],[0.3333333333333333,\"#9c179e\"],[0.4444444444444444,\"#bd3786\"],[0.5555555555555556,\"#d8576b\"],[0.6666666666666666,\"#ed7953\"],[0.7777777777777778,\"#fb9f3a\"],[0.8888888888888888,\"#fdca26\"],[1.0,\"#f0f921\"]]}],\"choropleth\":[{\"type\":\"choropleth\",\"colorbar\":{\"outlinewidth\":0,\"ticks\":\"\"}}],\"histogram2d\":[{\"type\":\"histogram2d\",\"colorbar\":{\"outlinewidth\":0,\"ticks\":\"\"},\"colorscale\":[[0.0,\"#0d0887\"],[0.1111111111111111,\"#46039f\"],[0.2222222222222222,\"#7201a8\"],[0.3333333333333333,\"#9c179e\"],[0.4444444444444444,\"#bd3786\"],[0.5555555555555556,\"#d8576b\"],[0.6666666666666666,\"#ed7953\"],[0.7777777777777778,\"#fb9f3a\"],[0.8888888888888888,\"#fdca26\"],[1.0,\"#f0f921\"]]}],\"heatmap\":[{\"type\":\"heatmap\",\"colorbar\":{\"outlinewidth\":0,\"ticks\":\"\"},\"colorscale\":[[0.0,\"#0d0887\"],[0.1111111111111111,\"#46039f\"],[0.2222222222222222,\"#7201a8\"],[0.3333333333333333,\"#9c179e\"],[0.4444444444444444,\"#bd3786\"],[0.5555555555555556,\"#d8576b\"],[0.6666666666666666,\"#ed7953\"],[0.7777777777777778,\"#fb9f3a\"],[0.8888888888888888,\"#fdca26\"],[1.0,\"#f0f921\"]]}],\"heatmapgl\":[{\"type\":\"heatmapgl\",\"colorbar\":{\"outlinewidth\":0,\"ticks\":\"\"},\"colorscale\":[[0.0,\"#0d0887\"],[0.1111111111111111,\"#46039f\"],[0.2222222222222222,\"#7201a8\"],[0.3333333333333333,\"#9c179e\"],[0.4444444444444444,\"#bd3786\"],[0.5555555555555556,\"#d8576b\"],[0.6666666666666666,\"#ed7953\"],[0.7777777777777778,\"#fb9f3a\"],[0.8888888888888888,\"#fdca26\"],[1.0,\"#f0f921\"]]}],\"contourcarpet\":[{\"type\":\"contourcarpet\",\"colorbar\":{\"outlinewidth\":0,\"ticks\":\"\"}}],\"contour\":[{\"type\":\"contour\",\"colorbar\":{\"outlinewidth\":0,\"ticks\":\"\"},\"colorscale\":[[0.0,\"#0d0887\"],[0.1111111111111111,\"#46039f\"],[0.2222222222222222,\"#7201a8\"],[0.3333333333333333,\"#9c179e\"],[0.4444444444444444,\"#bd3786\"],[0.5555555555555556,\"#d8576b\"],[0.6666666666666666,\"#ed7953\"],[0.7777777777777778,\"#fb9f3a\"],[0.8888888888888888,\"#fdca26\"],[1.0,\"#f0f921\"]]}],\"surface\":[{\"type\":\"surface\",\"colorbar\":{\"outlinewidth\":0,\"ticks\":\"\"},\"colorscale\":[[0.0,\"#0d0887\"],[0.1111111111111111,\"#46039f\"],[0.2222222222222222,\"#7201a8\"],[0.3333333333333333,\"#9c179e\"],[0.4444444444444444,\"#bd3786\"],[0.5555555555555556,\"#d8576b\"],[0.6666666666666666,\"#ed7953\"],[0.7777777777777778,\"#fb9f3a\"],[0.8888888888888888,\"#fdca26\"],[1.0,\"#f0f921\"]]}],\"mesh3d\":[{\"type\":\"mesh3d\",\"colorbar\":{\"outlinewidth\":0,\"ticks\":\"\"}}],\"scatter\":[{\"fillpattern\":{\"fillmode\":\"overlay\",\"size\":10,\"solidity\":0.2},\"type\":\"scatter\"}],\"parcoords\":[{\"type\":\"parcoords\",\"line\":{\"colorbar\":{\"outlinewidth\":0,\"ticks\":\"\"}}}],\"scatterpolargl\":[{\"type\":\"scatterpolargl\",\"marker\":{\"colorbar\":{\"outlinewidth\":0,\"ticks\":\"\"}}}],\"bar\":[{\"error_x\":{\"color\":\"#2a3f5f\"},\"error_y\":{\"color\":\"#2a3f5f\"},\"marker\":{\"line\":{\"color\":\"#E5ECF6\",\"width\":0.5},\"pattern\":{\"fillmode\":\"overlay\",\"size\":10,\"solidity\":0.2}},\"type\":\"bar\"}],\"scattergeo\":[{\"type\":\"scattergeo\",\"marker\":{\"colorbar\":{\"outlinewidth\":0,\"ticks\":\"\"}}}],\"scatterpolar\":[{\"type\":\"scatterpolar\",\"marker\":{\"colorbar\":{\"outlinewidth\":0,\"ticks\":\"\"}}}],\"histogram\":[{\"marker\":{\"pattern\":{\"fillmode\":\"overlay\",\"size\":10,\"solidity\":0.2}},\"type\":\"histogram\"}],\"scattergl\":[{\"type\":\"scattergl\",\"marker\":{\"colorbar\":{\"outlinewidth\":0,\"ticks\":\"\"}}}],\"scatter3d\":[{\"type\":\"scatter3d\",\"line\":{\"colorbar\":{\"outlinewidth\":0,\"ticks\":\"\"}},\"marker\":{\"colorbar\":{\"outlinewidth\":0,\"ticks\":\"\"}}}],\"scattermapbox\":[{\"type\":\"scattermapbox\",\"marker\":{\"colorbar\":{\"outlinewidth\":0,\"ticks\":\"\"}}}],\"scatterternary\":[{\"type\":\"scatterternary\",\"marker\":{\"colorbar\":{\"outlinewidth\":0,\"ticks\":\"\"}}}],\"scattercarpet\":[{\"type\":\"scattercarpet\",\"marker\":{\"colorbar\":{\"outlinewidth\":0,\"ticks\":\"\"}}}],\"carpet\":[{\"aaxis\":{\"endlinecolor\":\"#2a3f5f\",\"gridcolor\":\"white\",\"linecolor\":\"white\",\"minorgridcolor\":\"white\",\"startlinecolor\":\"#2a3f5f\"},\"baxis\":{\"endlinecolor\":\"#2a3f5f\",\"gridcolor\":\"white\",\"linecolor\":\"white\",\"minorgridcolor\":\"white\",\"startlinecolor\":\"#2a3f5f\"},\"type\":\"carpet\"}],\"table\":[{\"cells\":{\"fill\":{\"color\":\"#EBF0F8\"},\"line\":{\"color\":\"white\"}},\"header\":{\"fill\":{\"color\":\"#C8D4E3\"},\"line\":{\"color\":\"white\"}},\"type\":\"table\"}],\"barpolar\":[{\"marker\":{\"line\":{\"color\":\"#E5ECF6\",\"width\":0.5},\"pattern\":{\"fillmode\":\"overlay\",\"size\":10,\"solidity\":0.2}},\"type\":\"barpolar\"}],\"pie\":[{\"automargin\":true,\"type\":\"pie\"}]},\"layout\":{\"autotypenumbers\":\"strict\",\"colorway\":[\"#636efa\",\"#EF553B\",\"#00cc96\",\"#ab63fa\",\"#FFA15A\",\"#19d3f3\",\"#FF6692\",\"#B6E880\",\"#FF97FF\",\"#FECB52\"],\"font\":{\"color\":\"#2a3f5f\"},\"hovermode\":\"closest\",\"hoverlabel\":{\"align\":\"left\"},\"paper_bgcolor\":\"white\",\"plot_bgcolor\":\"#E5ECF6\",\"polar\":{\"bgcolor\":\"#E5ECF6\",\"angularaxis\":{\"gridcolor\":\"white\",\"linecolor\":\"white\",\"ticks\":\"\"},\"radialaxis\":{\"gridcolor\":\"white\",\"linecolor\":\"white\",\"ticks\":\"\"}},\"ternary\":{\"bgcolor\":\"#E5ECF6\",\"aaxis\":{\"gridcolor\":\"white\",\"linecolor\":\"white\",\"ticks\":\"\"},\"baxis\":{\"gridcolor\":\"white\",\"linecolor\":\"white\",\"ticks\":\"\"},\"caxis\":{\"gridcolor\":\"white\",\"linecolor\":\"white\",\"ticks\":\"\"}},\"coloraxis\":{\"colorbar\":{\"outlinewidth\":0,\"ticks\":\"\"}},\"colorscale\":{\"sequential\":[[0.0,\"#0d0887\"],[0.1111111111111111,\"#46039f\"],[0.2222222222222222,\"#7201a8\"],[0.3333333333333333,\"#9c179e\"],[0.4444444444444444,\"#bd3786\"],[0.5555555555555556,\"#d8576b\"],[0.6666666666666666,\"#ed7953\"],[0.7777777777777778,\"#fb9f3a\"],[0.8888888888888888,\"#fdca26\"],[1.0,\"#f0f921\"]],\"sequentialminus\":[[0.0,\"#0d0887\"],[0.1111111111111111,\"#46039f\"],[0.2222222222222222,\"#7201a8\"],[0.3333333333333333,\"#9c179e\"],[0.4444444444444444,\"#bd3786\"],[0.5555555555555556,\"#d8576b\"],[0.6666666666666666,\"#ed7953\"],[0.7777777777777778,\"#fb9f3a\"],[0.8888888888888888,\"#fdca26\"],[1.0,\"#f0f921\"]],\"diverging\":[[0,\"#8e0152\"],[0.1,\"#c51b7d\"],[0.2,\"#de77ae\"],[0.3,\"#f1b6da\"],[0.4,\"#fde0ef\"],[0.5,\"#f7f7f7\"],[0.6,\"#e6f5d0\"],[0.7,\"#b8e186\"],[0.8,\"#7fbc41\"],[0.9,\"#4d9221\"],[1,\"#276419\"]]},\"xaxis\":{\"gridcolor\":\"white\",\"linecolor\":\"white\",\"ticks\":\"\",\"title\":{\"standoff\":15},\"zerolinecolor\":\"white\",\"automargin\":true,\"zerolinewidth\":2},\"yaxis\":{\"gridcolor\":\"white\",\"linecolor\":\"white\",\"ticks\":\"\",\"title\":{\"standoff\":15},\"zerolinecolor\":\"white\",\"automargin\":true,\"zerolinewidth\":2},\"scene\":{\"xaxis\":{\"backgroundcolor\":\"#E5ECF6\",\"gridcolor\":\"white\",\"linecolor\":\"white\",\"showbackground\":true,\"ticks\":\"\",\"zerolinecolor\":\"white\",\"gridwidth\":2},\"yaxis\":{\"backgroundcolor\":\"#E5ECF6\",\"gridcolor\":\"white\",\"linecolor\":\"white\",\"showbackground\":true,\"ticks\":\"\",\"zerolinecolor\":\"white\",\"gridwidth\":2},\"zaxis\":{\"backgroundcolor\":\"#E5ECF6\",\"gridcolor\":\"white\",\"linecolor\":\"white\",\"showbackground\":true,\"ticks\":\"\",\"zerolinecolor\":\"white\",\"gridwidth\":2}},\"shapedefaults\":{\"line\":{\"color\":\"#2a3f5f\"}},\"annotationdefaults\":{\"arrowcolor\":\"#2a3f5f\",\"arrowhead\":0,\"arrowwidth\":1},\"geo\":{\"bgcolor\":\"white\",\"landcolor\":\"#E5ECF6\",\"subunitcolor\":\"white\",\"showland\":true,\"showlakes\":true,\"lakecolor\":\"white\"},\"title\":{\"x\":0.05},\"mapbox\":{\"style\":\"light\"}}},\"xaxis\":{\"anchor\":\"y\",\"domain\":[0.0,1.0],\"title\":{\"text\":\"Mean Rating\"}},\"yaxis\":{\"anchor\":\"x\",\"domain\":[0.0,1.0],\"title\":{\"text\":\"\"}},\"coloraxis\":{\"colorbar\":{\"title\":{\"text\":\"Times Reviewed\"}},\"colorscale\":[[0.0,\"#00224e\"],[0.1111111111111111,\"#123570\"],[0.2222222222222222,\"#3b496c\"],[0.3333333333333333,\"#575d6d\"],[0.4444444444444444,\"#707173\"],[0.5555555555555556,\"#8a8678\"],[0.6666666666666666,\"#a59c74\"],[0.7777777777777778,\"#c3b369\"],[0.8888888888888888,\"#e1cc55\"],[1.0,\"#fee838\"]]},\"legend\":{\"tracegroupgap\":0},\"title\":{\"text\":\"TOP Podcasts by Mean Rating and Times Reviewed\"},\"barmode\":\"relative\"},                        {\"responsive\": true}                    ).then(function(){\n",
       "                            \n",
       "var gd = document.getElementById('ff05cfb6-8413-4734-9786-e7161de1ddb9');\n",
       "var x = new MutationObserver(function (mutations, observer) {{\n",
       "        var display = window.getComputedStyle(gd).display;\n",
       "        if (!display || display === 'none') {{\n",
       "            console.log([gd, 'removed!']);\n",
       "            Plotly.purge(gd);\n",
       "            observer.disconnect();\n",
       "        }}\n",
       "}});\n",
       "\n",
       "// Listen for the removal of the full notebook cells\n",
       "var notebookContainer = gd.closest('#notebook-container');\n",
       "if (notebookContainer) {{\n",
       "    x.observe(notebookContainer, {childList: true});\n",
       "}}\n",
       "\n",
       "// Listen for the clearing of the current output cell\n",
       "var outputEl = gd.closest('.output');\n",
       "if (outputEl) {{\n",
       "    x.observe(outputEl, {childList: true});\n",
       "}}\n",
       "\n",
       "                        })                };                });            </script>        </div>"
      ]
     },
     "metadata": {},
     "output_type": "display_data"
    }
   ],
   "source": [
    "# Code\n",
    "\n",
    "most_popular_sorted = most_views.sort_values(by='times_reviewed', ascending=False).head(10)\n",
    "\n",
    "fig = px.bar(\n",
    "    most_popular_sorted,\n",
    "    x='mean_rating',\n",
    "    y='podcast_title',\n",
    "    color='times_reviewed',\n",
    "    orientation='h',\n",
    "    color_continuous_scale='Cividis',\n",
    "    title='TOP Podcasts by Mean Rating and Times Reviewed',\n",
    "    labels={'mean_rating': 'Mean Rating', 'times_reviewed': 'Times Reviewed', 'podcast_title' : ''}\n",
    ")\n",
    "\n",
    "fig.show();"
   ]
  },
  {
   "cell_type": "markdown",
   "id": "90430044",
   "metadata": {},
   "source": [
    "**Couple of things can be concluded:**\n",
    "1. Ratings for the most reviewed podcasts tend to me lower;\n",
    "2. Crime Junkie is the most popular podcast (has the most reviews);"
   ]
  },
  {
   "cell_type": "code",
   "execution_count": 22,
   "id": "24c5aab8",
   "metadata": {},
   "outputs": [
    {
     "data": {
      "text/plain": [
       "5    1790057\n",
       "1     116547\n",
       "4      62883\n",
       "3      52176\n",
       "2      45866\n",
       "Name: rating, dtype: int64"
      ]
     },
     "execution_count": 22,
     "metadata": {},
     "output_type": "execute_result"
    }
   ],
   "source": [
    "reviews.rating.value_counts()"
   ]
  },
  {
   "cell_type": "markdown",
   "id": "25a3627b",
   "metadata": {},
   "source": [
    "**Almost 87 % of the reviews are 5. And 5 % are 4.**\n",
    "\n",
    "It means that only 8 % of podcasts are rated as 3 or lower.\n",
    "\n",
    "**Now let's take a look at the different sport categories.**"
   ]
  },
  {
   "cell_type": "code",
   "execution_count": 23,
   "id": "8fd2c26d",
   "metadata": {
    "code_folding": []
   },
   "outputs": [
    {
     "name": "stdout",
     "output_type": "stream",
     "text": [
      "sports 8388\n",
      "sports-football 969\n",
      "news-sports-news 747\n",
      "sports-basketball 722\n",
      "sports-wilderness 603\n",
      "sports-fantasy-sports 482\n",
      "sports-soccer 454\n",
      "sports-baseball 443\n",
      "sports-wrestling 418\n",
      "sports-hockey 259\n",
      "sports-golf 169\n",
      "sports-running 153\n",
      "sports-tennis 38\n",
      "sports-rugby 35\n",
      "sports-cricket 21\n",
      "sports-swimming 18\n",
      "sports-volleyball 14\n"
     ]
    }
   ],
   "source": [
    "# Code\n",
    "a = categories.category.value_counts()\n",
    "for b, c in a.items():\n",
    "    if 'sports' in b:\n",
    "        print(b, c)"
   ]
  },
  {
   "cell_type": "markdown",
   "id": "4651a48a",
   "metadata": {},
   "source": [
    "Since sports category contains all kind of sports, for further analysis **only** basketball, soccer and running (personal preference) will only be used."
   ]
  },
  {
   "cell_type": "code",
   "execution_count": 24,
   "id": "31520dfc",
   "metadata": {
    "code_folding": [
     0
    ]
   },
   "outputs": [],
   "source": [
    "# Query all podcast reviews that are of required categories.\n",
    "sports = pd.read_sql_query('''\n",
    "SELECT  r.podcast_id AS podcast_id, \n",
    "        c.category AS category,\n",
    "        p.title AS podcast_title,\n",
    "        r.title AS review_title,\n",
    "        r.content AS content,\n",
    "        r.rating AS rating,\n",
    "        r.created_at AS created_at\n",
    "FROM reviews r\n",
    "JOIN categories c\n",
    "ON c.podcast_id = r.podcast_id\n",
    "JOIN podcasts p\n",
    "ON p.podcast_id = c.podcast_id\n",
    "WHERE c.category IN ('sports-soccer', 'sports-running', 'sports-basketball');\n",
    "''', con)"
   ]
  },
  {
   "cell_type": "code",
   "execution_count": 25,
   "id": "3efa2906",
   "metadata": {},
   "outputs": [
    {
     "data": {
      "text/html": [
       "<div>\n",
       "<style scoped>\n",
       "    .dataframe tbody tr th:only-of-type {\n",
       "        vertical-align: middle;\n",
       "    }\n",
       "\n",
       "    .dataframe tbody tr th {\n",
       "        vertical-align: top;\n",
       "    }\n",
       "\n",
       "    .dataframe thead th {\n",
       "        text-align: right;\n",
       "    }\n",
       "</style>\n",
       "<table border=\"1\" class=\"dataframe\">\n",
       "  <thead>\n",
       "    <tr style=\"text-align: right;\">\n",
       "      <th></th>\n",
       "      <th>podcast_id</th>\n",
       "      <th>category</th>\n",
       "      <th>podcast_title</th>\n",
       "      <th>review_title</th>\n",
       "      <th>content</th>\n",
       "      <th>rating</th>\n",
       "      <th>created_at</th>\n",
       "    </tr>\n",
       "  </thead>\n",
       "  <tbody>\n",
       "    <tr>\n",
       "      <th>0</th>\n",
       "      <td>e796ca5d5d00ae8516301a63e906b3a5</td>\n",
       "      <td>sports-soccer</td>\n",
       "      <td>No Question About That - Manchester United pod...</td>\n",
       "      <td>CALYPSO!!!!</td>\n",
       "      <td>Best United pod in the world. Been listening s...</td>\n",
       "      <td>5</td>\n",
       "      <td>2016-08-12T16:29:46-07:00</td>\n",
       "    </tr>\n",
       "    <tr>\n",
       "      <th>1</th>\n",
       "      <td>e796ca5d5d00ae8516301a63e906b3a5</td>\n",
       "      <td>sports-soccer</td>\n",
       "      <td>No Question About That - Manchester United pod...</td>\n",
       "      <td>Wayne Rooney Fan Show</td>\n",
       "      <td>Just kidding about the title. Paul and Ed do a...</td>\n",
       "      <td>5</td>\n",
       "      <td>2015-05-19T18:49:13-07:00</td>\n",
       "    </tr>\n",
       "  </tbody>\n",
       "</table>\n",
       "</div>"
      ],
      "text/plain": [
       "                         podcast_id       category  \\\n",
       "0  e796ca5d5d00ae8516301a63e906b3a5  sports-soccer   \n",
       "1  e796ca5d5d00ae8516301a63e906b3a5  sports-soccer   \n",
       "\n",
       "                                       podcast_title           review_title  \\\n",
       "0  No Question About That - Manchester United pod...            CALYPSO!!!!   \n",
       "1  No Question About That - Manchester United pod...  Wayne Rooney Fan Show   \n",
       "\n",
       "                                             content  rating  \\\n",
       "0  Best United pod in the world. Been listening s...       5   \n",
       "1  Just kidding about the title. Paul and Ed do a...       5   \n",
       "\n",
       "                  created_at  \n",
       "0  2016-08-12T16:29:46-07:00  \n",
       "1  2015-05-19T18:49:13-07:00  "
      ]
     },
     "execution_count": 25,
     "metadata": {},
     "output_type": "execute_result"
    }
   ],
   "source": [
    "sports.head(2)"
   ]
  },
  {
   "cell_type": "code",
   "execution_count": 26,
   "id": "e976cc1b",
   "metadata": {},
   "outputs": [
    {
     "data": {
      "text/plain": [
       "(29818, 7)"
      ]
     },
     "execution_count": 26,
     "metadata": {},
     "output_type": "execute_result"
    }
   ],
   "source": [
    "sports.shape"
   ]
  },
  {
   "cell_type": "markdown",
   "id": "60051ba5",
   "metadata": {},
   "source": [
    "**Let's take a look at the reviews per podcast ratio:**"
   ]
  },
  {
   "cell_type": "code",
   "execution_count": 27,
   "id": "5ed137ed",
   "metadata": {
    "code_folding": [
     0
    ]
   },
   "outputs": [
    {
     "name": "stdout",
     "output_type": "stream",
     "text": [
      "Reviews per podcast: Basketball: 24, Soccer: 12, Running: 40\n"
     ]
    }
   ],
   "source": [
    "# Code\n",
    "basketball_count = len(sports[sports['category'] == 'sports-basketball']) // 722\n",
    "soccer_count = len(sports[sports['category'] == 'sports-soccer']) // 454\n",
    "running_count = len(sports[sports['category'] == 'sports-running']) // 153\n",
    "\n",
    "text = (\n",
    "    f\"Reviews per podcast: Basketball: {basketball_count}, \"\n",
    "    f\"Soccer: {soccer_count}, Running: {running_count}\")\n",
    "\n",
    "print(text)"
   ]
  },
  {
   "cell_type": "markdown",
   "id": "86ae05a0",
   "metadata": {},
   "source": [
    "**While review per podcast ratio is unequal, no further aggregation will be done, because representing a mean of different means make even less sense**."
   ]
  },
  {
   "cell_type": "markdown",
   "id": "4be4420e",
   "metadata": {},
   "source": [
    "## Data Cleaning."
   ]
  },
  {
   "cell_type": "markdown",
   "id": "bd9ea8d9",
   "metadata": {},
   "source": [
    "With the consistent dataset now it's time to do the data cleaning. First I will make 'category' column more readable."
   ]
  },
  {
   "cell_type": "code",
   "execution_count": 28,
   "id": "90c46d07",
   "metadata": {
    "code_folding": [
     0
    ]
   },
   "outputs": [],
   "source": [
    "mappings = {'sports-basketball': 'basketball',\n",
    "            'sports-running': 'running',\n",
    "            'sports-soccer': 'soccer'}\n",
    "\n",
    "sports['category'] = sports['category'].replace(mappings)"
   ]
  },
  {
   "cell_type": "markdown",
   "id": "3412c8bb",
   "metadata": {},
   "source": [
    "Now let's deal with the date column. For me, year of the podcast review is more than enough."
   ]
  },
  {
   "cell_type": "code",
   "execution_count": 29,
   "id": "c12e1ca1",
   "metadata": {},
   "outputs": [],
   "source": [
    "# sports['created_at'] = sports['created_at'].str[:4]\n",
    "sports['created_at'] = sports['created_at'].astype(int)"
   ]
  },
  {
   "cell_type": "code",
   "execution_count": 30,
   "id": "0ce0d793",
   "metadata": {},
   "outputs": [
    {
     "data": {
      "text/plain": [
       "podcast_id       0\n",
       "category         0\n",
       "podcast_title    0\n",
       "review_title     0\n",
       "content          0\n",
       "rating           0\n",
       "created_at       0\n",
       "dtype: int64"
      ]
     },
     "execution_count": 30,
     "metadata": {},
     "output_type": "execute_result"
    }
   ],
   "source": [
    "sports.isna().sum()"
   ]
  },
  {
   "cell_type": "code",
   "execution_count": 33,
   "id": "c3aa76a8",
   "metadata": {},
   "outputs": [
    {
     "data": {
      "text/plain": [
       "0"
      ]
     },
     "execution_count": 33,
     "metadata": {},
     "output_type": "execute_result"
    }
   ],
   "source": [
    "sports.duplicated().sum()"
   ]
  },
  {
   "cell_type": "code",
   "execution_count": 32,
   "id": "e4d766ab",
   "metadata": {},
   "outputs": [],
   "source": [
    "sports = sports.drop_duplicates()"
   ]
  },
  {
   "cell_type": "markdown",
   "id": "91ee9c91",
   "metadata": {},
   "source": [
    "**There are no missing values or duplicated rows in the dataset**."
   ]
  },
  {
   "cell_type": "code",
   "execution_count": 34,
   "id": "260fb190",
   "metadata": {
    "scrolled": false
   },
   "outputs": [
    {
     "data": {
      "text/html": [
       "<div>\n",
       "<style scoped>\n",
       "    .dataframe tbody tr th:only-of-type {\n",
       "        vertical-align: middle;\n",
       "    }\n",
       "\n",
       "    .dataframe tbody tr th {\n",
       "        vertical-align: top;\n",
       "    }\n",
       "\n",
       "    .dataframe thead th {\n",
       "        text-align: right;\n",
       "    }\n",
       "</style>\n",
       "<table border=\"1\" class=\"dataframe\">\n",
       "  <thead>\n",
       "    <tr style=\"text-align: right;\">\n",
       "      <th></th>\n",
       "      <th>podcast_id</th>\n",
       "      <th>category</th>\n",
       "      <th>podcast_title</th>\n",
       "      <th>review_title</th>\n",
       "      <th>content</th>\n",
       "      <th>rating</th>\n",
       "      <th>created_at</th>\n",
       "    </tr>\n",
       "  </thead>\n",
       "  <tbody>\n",
       "    <tr>\n",
       "      <th>count</th>\n",
       "      <td>29771</td>\n",
       "      <td>29771</td>\n",
       "      <td>29771</td>\n",
       "      <td>29771</td>\n",
       "      <td>29771</td>\n",
       "      <td>29771.000000</td>\n",
       "      <td>29771.000000</td>\n",
       "    </tr>\n",
       "    <tr>\n",
       "      <th>unique</th>\n",
       "      <td>1326</td>\n",
       "      <td>3</td>\n",
       "      <td>1322</td>\n",
       "      <td>21463</td>\n",
       "      <td>29697</td>\n",
       "      <td>NaN</td>\n",
       "      <td>NaN</td>\n",
       "    </tr>\n",
       "    <tr>\n",
       "      <th>top</th>\n",
       "      <td>d18048f07e38e2a022c07b4638439321</td>\n",
       "      <td>basketball</td>\n",
       "      <td>Locked On Lakers - Daily Podcast On The Los An...</td>\n",
       "      <td>Great podcast</td>\n",
       "      <td>It is crazy that at the start of every game, R...</td>\n",
       "      <td>NaN</td>\n",
       "      <td>NaN</td>\n",
       "    </tr>\n",
       "    <tr>\n",
       "      <th>freq</th>\n",
       "      <td>1507</td>\n",
       "      <td>17991</td>\n",
       "      <td>1507</td>\n",
       "      <td>327</td>\n",
       "      <td>5</td>\n",
       "      <td>NaN</td>\n",
       "      <td>NaN</td>\n",
       "    </tr>\n",
       "    <tr>\n",
       "      <th>mean</th>\n",
       "      <td>NaN</td>\n",
       "      <td>NaN</td>\n",
       "      <td>NaN</td>\n",
       "      <td>NaN</td>\n",
       "      <td>NaN</td>\n",
       "      <td>4.688522</td>\n",
       "      <td>2019.398710</td>\n",
       "    </tr>\n",
       "    <tr>\n",
       "      <th>std</th>\n",
       "      <td>NaN</td>\n",
       "      <td>NaN</td>\n",
       "      <td>NaN</td>\n",
       "      <td>NaN</td>\n",
       "      <td>NaN</td>\n",
       "      <td>0.967748</td>\n",
       "      <td>2.054868</td>\n",
       "    </tr>\n",
       "    <tr>\n",
       "      <th>min</th>\n",
       "      <td>NaN</td>\n",
       "      <td>NaN</td>\n",
       "      <td>NaN</td>\n",
       "      <td>NaN</td>\n",
       "      <td>NaN</td>\n",
       "      <td>1.000000</td>\n",
       "      <td>2006.000000</td>\n",
       "    </tr>\n",
       "    <tr>\n",
       "      <th>25%</th>\n",
       "      <td>NaN</td>\n",
       "      <td>NaN</td>\n",
       "      <td>NaN</td>\n",
       "      <td>NaN</td>\n",
       "      <td>NaN</td>\n",
       "      <td>5.000000</td>\n",
       "      <td>2018.000000</td>\n",
       "    </tr>\n",
       "    <tr>\n",
       "      <th>50%</th>\n",
       "      <td>NaN</td>\n",
       "      <td>NaN</td>\n",
       "      <td>NaN</td>\n",
       "      <td>NaN</td>\n",
       "      <td>NaN</td>\n",
       "      <td>5.000000</td>\n",
       "      <td>2020.000000</td>\n",
       "    </tr>\n",
       "    <tr>\n",
       "      <th>75%</th>\n",
       "      <td>NaN</td>\n",
       "      <td>NaN</td>\n",
       "      <td>NaN</td>\n",
       "      <td>NaN</td>\n",
       "      <td>NaN</td>\n",
       "      <td>5.000000</td>\n",
       "      <td>2021.000000</td>\n",
       "    </tr>\n",
       "    <tr>\n",
       "      <th>max</th>\n",
       "      <td>NaN</td>\n",
       "      <td>NaN</td>\n",
       "      <td>NaN</td>\n",
       "      <td>NaN</td>\n",
       "      <td>NaN</td>\n",
       "      <td>5.000000</td>\n",
       "      <td>2023.000000</td>\n",
       "    </tr>\n",
       "  </tbody>\n",
       "</table>\n",
       "</div>"
      ],
      "text/plain": [
       "                              podcast_id    category  \\\n",
       "count                              29771       29771   \n",
       "unique                              1326           3   \n",
       "top     d18048f07e38e2a022c07b4638439321  basketball   \n",
       "freq                                1507       17991   \n",
       "mean                                 NaN         NaN   \n",
       "std                                  NaN         NaN   \n",
       "min                                  NaN         NaN   \n",
       "25%                                  NaN         NaN   \n",
       "50%                                  NaN         NaN   \n",
       "75%                                  NaN         NaN   \n",
       "max                                  NaN         NaN   \n",
       "\n",
       "                                            podcast_title   review_title  \\\n",
       "count                                               29771          29771   \n",
       "unique                                               1322          21463   \n",
       "top     Locked On Lakers - Daily Podcast On The Los An...  Great podcast   \n",
       "freq                                                 1507            327   \n",
       "mean                                                  NaN            NaN   \n",
       "std                                                   NaN            NaN   \n",
       "min                                                   NaN            NaN   \n",
       "25%                                                   NaN            NaN   \n",
       "50%                                                   NaN            NaN   \n",
       "75%                                                   NaN            NaN   \n",
       "max                                                   NaN            NaN   \n",
       "\n",
       "                                                  content        rating  \\\n",
       "count                                               29771  29771.000000   \n",
       "unique                                              29697           NaN   \n",
       "top     It is crazy that at the start of every game, R...           NaN   \n",
       "freq                                                    5           NaN   \n",
       "mean                                                  NaN      4.688522   \n",
       "std                                                   NaN      0.967748   \n",
       "min                                                   NaN      1.000000   \n",
       "25%                                                   NaN      5.000000   \n",
       "50%                                                   NaN      5.000000   \n",
       "75%                                                   NaN      5.000000   \n",
       "max                                                   NaN      5.000000   \n",
       "\n",
       "          created_at  \n",
       "count   29771.000000  \n",
       "unique           NaN  \n",
       "top              NaN  \n",
       "freq             NaN  \n",
       "mean     2019.398710  \n",
       "std         2.054868  \n",
       "min      2006.000000  \n",
       "25%      2018.000000  \n",
       "50%      2020.000000  \n",
       "75%      2021.000000  \n",
       "max      2023.000000  "
      ]
     },
     "execution_count": 34,
     "metadata": {},
     "output_type": "execute_result"
    }
   ],
   "source": [
    "sports.describe(include='all')"
   ]
  },
  {
   "cell_type": "markdown",
   "id": "cb7a1307",
   "metadata": {},
   "source": [
    "**Couple of remarks:**\n",
    "\n",
    "* Since there are no duplicated values, it's worth investigating why, content is repetitive in some reviews.\n",
    "* Basketball reviews are dominant in this dataset.\n",
    "* Mean rating is 4.68, while standard deviation is almost 1.\n",
    "* There is almost 1.5 k unique podcasts in this Dataset.\n",
    "* Earliest podcast review has been done in 2006, while newest ones are performed this year. Most of the reviews are centered around mean year (2019)."
   ]
  },
  {
   "cell_type": "code",
   "execution_count": 136,
   "id": "8243de98",
   "metadata": {},
   "outputs": [
    {
     "data": {
      "text/html": [
       "<div>\n",
       "<style scoped>\n",
       "    .dataframe tbody tr th:only-of-type {\n",
       "        vertical-align: middle;\n",
       "    }\n",
       "\n",
       "    .dataframe tbody tr th {\n",
       "        vertical-align: top;\n",
       "    }\n",
       "\n",
       "    .dataframe thead th {\n",
       "        text-align: right;\n",
       "    }\n",
       "</style>\n",
       "<table border=\"1\" class=\"dataframe\">\n",
       "  <thead>\n",
       "    <tr style=\"text-align: right;\">\n",
       "      <th></th>\n",
       "      <th>podcast_id</th>\n",
       "      <th>category</th>\n",
       "      <th>podcast_title</th>\n",
       "      <th>review_title</th>\n",
       "      <th>content</th>\n",
       "      <th>rating</th>\n",
       "    </tr>\n",
       "  </thead>\n",
       "  <tbody>\n",
       "    <tr>\n",
       "      <th>12333</th>\n",
       "      <td>d4739f40eae569ab79c623ca3fb0508f</td>\n",
       "      <td>basketball</td>\n",
       "      <td>Locked On NBA – Daily Podcast On The National ...</td>\n",
       "      <td>Rachel Nichols</td>\n",
       "      <td>It is crazy that at the start of every game, R...</td>\n",
       "      <td>5</td>\n",
       "    </tr>\n",
       "    <tr>\n",
       "      <th>12337</th>\n",
       "      <td>ce01126b8502ccb7a8075310ff9be831</td>\n",
       "      <td>basketball</td>\n",
       "      <td>Open Floor: SI's NBA Show</td>\n",
       "      <td>Rachel Nichols</td>\n",
       "      <td>It is crazy that at the start of every game, R...</td>\n",
       "      <td>5</td>\n",
       "    </tr>\n",
       "    <tr>\n",
       "      <th>12346</th>\n",
       "      <td>c1a9f9aec4a10b08e74f04995207a46e</td>\n",
       "      <td>basketball</td>\n",
       "      <td>The No Chill with Gilbert Arenas Podcast</td>\n",
       "      <td>Rachel Nichols</td>\n",
       "      <td>It is crazy that at the start of every game, R...</td>\n",
       "      <td>5</td>\n",
       "    </tr>\n",
       "    <tr>\n",
       "      <th>20645</th>\n",
       "      <td>d6607ad9e2bcc9c7fc85f361da0deded</td>\n",
       "      <td>basketball</td>\n",
       "      <td>Locked On Bucks – Daily Podcast On The Milwauk...</td>\n",
       "      <td>Rachel Nichols</td>\n",
       "      <td>It is crazy that at the start of every game, R...</td>\n",
       "      <td>5</td>\n",
       "    </tr>\n",
       "    <tr>\n",
       "      <th>24922</th>\n",
       "      <td>f4e25f3426c53723d87bb0b552781cc6</td>\n",
       "      <td>basketball</td>\n",
       "      <td>The Lakers Legacy Podcast</td>\n",
       "      <td>Rachel Nicols</td>\n",
       "      <td>It is crazy that at the start of every game, R...</td>\n",
       "      <td>5</td>\n",
       "    </tr>\n",
       "  </tbody>\n",
       "</table>\n",
       "</div>"
      ],
      "text/plain": [
       "                             podcast_id    category  \\\n",
       "12333  d4739f40eae569ab79c623ca3fb0508f  basketball   \n",
       "12337  ce01126b8502ccb7a8075310ff9be831  basketball   \n",
       "12346  c1a9f9aec4a10b08e74f04995207a46e  basketball   \n",
       "20645  d6607ad9e2bcc9c7fc85f361da0deded  basketball   \n",
       "24922  f4e25f3426c53723d87bb0b552781cc6  basketball   \n",
       "\n",
       "                                           podcast_title    review_title  \\\n",
       "12333  Locked On NBA – Daily Podcast On The National ...  Rachel Nichols   \n",
       "12337                          Open Floor: SI's NBA Show  Rachel Nichols   \n",
       "12346           The No Chill with Gilbert Arenas Podcast  Rachel Nichols   \n",
       "20645  Locked On Bucks – Daily Podcast On The Milwauk...  Rachel Nichols   \n",
       "24922                          The Lakers Legacy Podcast   Rachel Nicols   \n",
       "\n",
       "                                                 content  rating  \n",
       "12333  It is crazy that at the start of every game, R...       5  \n",
       "12337  It is crazy that at the start of every game, R...       5  \n",
       "12346  It is crazy that at the start of every game, R...       5  \n",
       "20645  It is crazy that at the start of every game, R...       5  \n",
       "24922  It is crazy that at the start of every game, R...       5  "
      ]
     },
     "execution_count": 136,
     "metadata": {},
     "output_type": "execute_result"
    }
   ],
   "source": [
    "sports[sports['content'] == 'It is crazy that at the start of every game, Rachel Nichols flashes the white power symbol with her left hand, for a long time during her monologue. You can go back and check. She did it from the preseason on. She obviously does not Want to be around “those” people. It devastated  my children and I when we saw it. It is awful to do to the young, full of hopes and dreams.\\n    It is clear she wants to do something else. Let her do that something else away from our sons and daughters.']"
   ]
  },
  {
   "cell_type": "markdown",
   "id": "a4fd589b",
   "metadata": {},
   "source": [
    "**It seems that there's nothing wrong with the data. It is more likely that there is bias why it happened (e.g. frustration, bot or etc.)**"
   ]
  },
  {
   "cell_type": "markdown",
   "id": "c5bcc837",
   "metadata": {},
   "source": [
    "# Data analysis and Hypothesis testing."
   ]
  },
  {
   "cell_type": "markdown",
   "id": "4ef4251b",
   "metadata": {},
   "source": [
    "## Data Analysis."
   ]
  },
  {
   "cell_type": "markdown",
   "id": "f76a0392",
   "metadata": {},
   "source": [
    "Let's take a look at the main characteristics of the dataset.\n",
    "\n",
    "At first I will take a look at countplots of each category (basketball, soccer, running)."
   ]
  },
  {
   "cell_type": "code",
   "execution_count": 35,
   "id": "f7192b1e",
   "metadata": {
    "code_folding": [
     0
    ]
   },
   "outputs": [
    {
     "data": {
      "image/png": "[encoded data removed]",
      "text/plain": [
       "<Figure size 1000x400 with 2 Axes>"
      ]
     },
     "metadata": {},
     "output_type": "display_data"
    }
   ],
   "source": [
    "# Code\n",
    "fig, ax = plt.subplots(1, 2, figsize=(10, 4))\n",
    "sns.set_style(\"darkgrid\")\n",
    "\n",
    "sns.countplot(x=\"category\", data=sports, ax=ax[0], palette=\"gist_earth\")\n",
    "ax[0].set_title(\"\\nCount of reviews of Each Category\\n\", fontsize=13)\n",
    "ax[0].set(ylabel=\"\", xlabel=\"\")\n",
    "ax[0].bar_label(ax[0].containers[0])\n",
    "\n",
    "sns.barplot(data= sports, x=\"category\", y='rating', ax=ax[1], palette=\"gist_earth\")\n",
    "ax[1].set_title(\"\\nMean Rating of Each Category\\n\", fontsize=13)\n",
    "ax[1].set(ylabel=\"\", xlabel=\"\")\n",
    "ax[1].bar_label(ax[1].containers[0])\n",
    "\n",
    "plt.tight_layout()\n",
    "plt.show()"
   ]
  },
  {
   "cell_type": "markdown",
   "id": "903c4d53",
   "metadata": {},
   "source": [
    "**Couple of things can be concluded:**\n",
    "1. Basketball podcasts are a lot more reviewed;\n",
    "2. Running podcasts tend to have higher Mean Rating;\n",
    "3. Although there are more soccer podcasts, running podcasts tend to have more reviews."
   ]
  },
  {
   "cell_type": "markdown",
   "id": "3a5a9fc1",
   "metadata": {
    "code_folding": []
   },
   "source": [
    "**Let's use some aggregation methods to check for more descriptive statistics.**"
   ]
  },
  {
   "cell_type": "code",
   "execution_count": 186,
   "id": "679036bf",
   "metadata": {
    "scrolled": true
   },
   "outputs": [
    {
     "name": "stdout",
     "output_type": "stream",
     "text": [
      "              count      mean       std  min  25%  50%  75%  max\n",
      "category                                                        \n",
      "basketball  17991.0  4.611528  1.074593  1.0  5.0  5.0  5.0  5.0\n",
      "running      6156.0  4.891975  0.555186  1.0  5.0  5.0  5.0  5.0\n",
      "soccer       5624.0  4.712127  0.928239  1.0  5.0  5.0  5.0  5.0\n"
     ]
    }
   ],
   "source": [
    "pd.set_option(\"display.expand_frame_repr\", False)\n",
    "statistics = sports.groupby(\"category\")[\"rating\"].describe()\n",
    "print(statistics)"
   ]
  },
  {
   "cell_type": "markdown",
   "id": "f3294918",
   "metadata": {},
   "source": [
    "**Couple of additional things that can be concluded:**\n",
    "1. Running seem to have the lowest variability of ratings across different categories, while basketball has the highest.\n",
    "2. All categories seem to have over 3/4 of their ratings to be 5."
   ]
  },
  {
   "cell_type": "code",
   "execution_count": 41,
   "id": "f28e7209",
   "metadata": {
    "code_folding": []
   },
   "outputs": [
    {
     "data": {
      "text/plain": [
       "<Figure size 1400x500 with 0 Axes>"
      ]
     },
     "metadata": {},
     "output_type": "display_data"
    },
    {
     "data": {
      "image/png": "[encoded data removed]",
      "text/plain": [
       "<Figure size 640x480 with 1 Axes>"
      ]
     },
     "metadata": {},
     "output_type": "display_data"
    }
   ],
   "source": [
    "# Code\n",
    "plt.figure(figsize=(14, 5))\n",
    "rating_dist = pd.crosstab(sports[\"category\"], sports[\"rating\"], normalize=\"index\") * 100\n",
    "rating_dist.plot(kind=\"bar\", stacked=True, edgecolor=\"black\", colormap=\"viridis\")\n",
    "plt.xlabel(\"Category\")\n",
    "plt.xticks(rotation=0)\n",
    "plt.ylabel(\"Proportion (%)\")\n",
    "plt.title(\"Proportion of Ratings by Category\")\n",
    "plt.tight_layout()\n",
    "plt.show();"
   ]
  },
  {
   "cell_type": "markdown",
   "id": "aa914c63",
   "metadata": {},
   "source": [
    "**Now let's take a closer look at the numbers for how many times podcast was reviewed**."
   ]
  },
  {
   "cell_type": "code",
   "execution_count": 189,
   "id": "c2c49cb6",
   "metadata": {},
   "outputs": [
    {
     "name": "stdout",
     "output_type": "stream",
     "text": [
      "            count       mean         std  min  25%  50%    75%     max\n",
      "category                                                              \n",
      "basketball  722.0  24.918283   88.281750  1.0  2.0  4.0  14.00  1507.0\n",
      "running     153.0  40.235294  128.531778  1.0  1.0  5.0  23.00  1273.0\n",
      "soccer      454.0  12.387665   44.957418  1.0  1.0  2.0   6.75   670.0\n"
     ]
    }
   ],
   "source": [
    "grouped = sports.groupby(\"category\")[\"podcast_id\"]\n",
    "statistics = grouped.value_counts().groupby(\"category\").describe()\n",
    "print(statistics)"
   ]
  },
  {
   "cell_type": "markdown",
   "id": "62d35c0a",
   "metadata": {},
   "source": [
    "**Couple of things can be concluded:**\n",
    "1. Soccer podcasts seem to be a lot less reviewed, although they are produced at similar rates to basketball.\n",
    "2. There seems to be high variability in review numbers, what is suggested by standard deviation of all different categories. Some podcasts are a lot better than the others."
   ]
  },
  {
   "cell_type": "markdown",
   "id": "40d65d04",
   "metadata": {},
   "source": [
    "**Now let's take a look at the rating distribution across categories through the years.**"
   ]
  },
  {
   "cell_type": "code",
   "execution_count": 289,
   "id": "fa8fcbf1",
   "metadata": {
    "code_folding": [
     0
    ]
   },
   "outputs": [
    {
     "data": {
      "image/png": "[encoded data removed]",
      "text/plain": [
       "<Figure size 1400x500 with 1 Axes>"
      ]
     },
     "metadata": {},
     "output_type": "display_data"
    }
   ],
   "source": [
    "# Code\n",
    "sns.set_style(\"whitegrid\")\n",
    "plt.figure(figsize=(14, 5))\n",
    "sns.lineplot(data=sports[sports['created_at'] >= 2010], x='created_at', style='category', y='rating', palette='gist_earth', linewidth=2.5)\n",
    "plt.xlabel(\"Year\")\n",
    "plt.ylabel(\"Rating\")\n",
    "plt.title(\"Rating Trends by Year\")\n",
    "custom_xticks = [2010, 2012, 2014, 2016, 2018, 2020, 2022, 2023]\n",
    "plt.xticks(custom_xticks)\n",
    "plt.show()"
   ]
  },
  {
   "cell_type": "markdown",
   "id": "0723d227",
   "metadata": {},
   "source": [
    "**Couple of things can be concluded:**\n",
    "1. Running podcasts seem to have relatively stable rating projection over the years.\n",
    "2. Basketball and soccer podcast mean ratings are at constant competition and also they faced severe downgrade in mean ratings starting from 2021."
   ]
  },
  {
   "cell_type": "markdown",
   "id": "97b669a4",
   "metadata": {},
   "source": [
    "**Overall, dataset seem to be very interesing to analyze with many different trends and patterns still unearthed. This leads to ideas for hypothesis testing, to make valid statistical inference on this aspect**."
   ]
  },
  {
   "cell_type": "code",
   "execution_count": 297,
   "id": "7a3665ed",
   "metadata": {},
   "outputs": [],
   "source": [
    "basketball_data = sports[sports['category'] == 'basketball']\n",
    "soccer_data = sports[sports['category'] == 'soccer']\n",
    "running_data = sports[sports['category'] == 'running']"
   ]
  },
  {
   "cell_type": "markdown",
   "id": "07101b0c",
   "metadata": {},
   "source": [
    "## Hypothesis testing."
   ]
  },
  {
   "cell_type": "markdown",
   "id": "944f788c",
   "metadata": {},
   "source": [
    "Hypothesis testing is a critical tool in determining what statistical inference could be.\n",
    "\n",
    "For this I will use theoretical approach with two main attributes:\n",
    "    \n",
    "**Null Hypothesis: $H_0$**\n",
    "\n",
    "**Alternative Hypothesis: $H_a$**\n"
   ]
  },
  {
   "cell_type": "markdown",
   "id": "67c9a39e",
   "metadata": {},
   "source": [
    "### Comparison of means for three samples."
   ]
  },
  {
   "cell_type": "markdown",
   "id": "37e6f243",
   "metadata": {},
   "source": [
    "First step is to identify, whether there are any significant differences in the means of all three categories. For this, ANOVA (Analysis of variance) test will be performed."
   ]
  },
  {
   "cell_type": "markdown",
   "id": "084b55c6",
   "metadata": {},
   "source": [
    "**Research Question:**\n",
    "Considering ratings in the podcasts reviews data, did basketball, running, soccer podcasts rating differ significantly?\n",
    "\n",
    "**Population**: Basketball, Running, Soccer podcasts in the Podcast Reviews Data.  \n",
    "\n",
    "**Null Hypothesis:** $\\mu_1 = \\mu_2$ = $\\mu_3$.\n",
    "\n",
    "**Alternative Hypthosis:** At least one group mean is different from the others. E. g.: $\\mu_1 \\neq \\mu_2$"
   ]
  },
  {
   "cell_type": "code",
   "execution_count": 335,
   "id": "bd4fce9a",
   "metadata": {
    "scrolled": true
   },
   "outputs": [
    {
     "name": "stdout",
     "output_type": "stream",
     "text": [
      "ANOVA Result: F_onewayResult(statistic=197.22089111319653, pvalue=8.138766388065443e-86)\n"
     ]
    }
   ],
   "source": [
    "result = stats.f_oneway(running_data['rating'], basketball_data['rating'], soccer_data['rating'])\n",
    "\n",
    "print(\"ANOVA Result:\", result)"
   ]
  },
  {
   "cell_type": "markdown",
   "id": "71098147",
   "metadata": {},
   "source": [
    "**Observed very low p value indicates strong evidence against the null hypothesis. It means that at least one of the groups have significantly different ratings, thus we can proceed with comparisons of means between two samples**."
   ]
  },
  {
   "cell_type": "markdown",
   "id": "6785d7d3",
   "metadata": {},
   "source": [
    "### Comparison of means for two samples."
   ]
  },
  {
   "cell_type": "markdown",
   "id": "04e24cdc",
   "metadata": {},
   "source": [
    "**1st Research Question:**\n",
    "Considering ratings in the podcasts reviews data, did basketball podcasts have significantly lower ratings than the soccer podcasts?\n",
    "\n",
    "**Population**: Basketball and Soccer podcasts in the Podcast Reviews Data.  \n",
    "**Parameter of Interest**: $\\mu_1 - \\mu_2$, Rating.  \n",
    "**Null Hypothesis:** $\\mu_1 = \\mu_2$  \n",
    "**Alternative Hypthosis:** $\\mu_1 < \\mu_2$"
   ]
  },
  {
   "cell_type": "code",
   "execution_count": 332,
   "id": "7650cb43",
   "metadata": {
    "code_folding": [
     0
    ],
    "scrolled": true
   },
   "outputs": [
    {
     "name": "stdout",
     "output_type": "stream",
     "text": [
      "Difference in two means:  -0.10059861406916504 \n",
      "\n",
      "Result of t-test:\n",
      "\n",
      " Ttest_indResult(statistic=-6.321842288013412, pvalue=1.3154305681847192e-10) \n",
      "\n",
      " Confidence Interval:\n",
      "\n",
      " (-0.12949812959937082, -0.07169909853895926)\n"
     ]
    }
   ],
   "source": [
    "# Calculating differences in means, t test statistics and confidence intervals.\n",
    "diff = basketball_data[\"rating\"].mean() - soccer_data[\"rating\"].mean()\n",
    "\n",
    "confidence_level = 0.95\n",
    "\n",
    "result = stats.ttest_ind(basketball_data[\"rating\"], soccer_data[\"rating\"], alternative='less', equal_var=True)\n",
    "\n",
    "degrees_of_freedom = len(basketball_data[\"rating\"]) + len(soccer_data[\"rating\"]) - 2\n",
    "\n",
    "conf_interval = stats.t.interval(confidence_level, degrees_of_freedom, loc=np.mean(basketball_data[\"rating\"]) - np.mean(soccer_data[\"rating\"]), scale=np.sqrt((np.var(basketball_data[\"rating\"], ddof=1) / len(basketball_data[\"rating\"])) + (np.var(soccer_data[\"rating\"], ddof=1) / len(soccer_data[\"rating\"]))))\n",
    "\n",
    "print(\"Difference in two means: \", diff, \"\\n\\nResult of t-test:\\n\\n\", result, \"\\n\\n Confidence Interval:\\n\\n\", conf_interval)"
   ]
  },
  {
   "cell_type": "markdown",
   "id": "72e004ba",
   "metadata": {},
   "source": [
    "**Since our observed p value is nearly 0, we can reject null hypothesis and with 95 % confidence infer than basketball podcasts have significantly lower mean rating than soccer podcasts across podcast reviews**."
   ]
  },
  {
   "cell_type": "markdown",
   "id": "7d312568",
   "metadata": {},
   "source": [
    "**2nd Research Question:**\n",
    "Considering ratings in the podcasts reviews data, did running podcasts have significantly higher ratings than the soccer podcasts?\n",
    "\n",
    "**Population**: Running and Soccer podcasts in the Podcast Reviews Data.  \n",
    "**Parameter of Interest**: $\\mu_1 - \\mu_2$, Rating.  \n",
    "**Null Hypothesis:** $\\mu_1 = \\mu_2$  \n",
    "**Alternative Hypthosis:** $\\mu_1 > \\mu_2$"
   ]
  },
  {
   "cell_type": "code",
   "execution_count": 333,
   "id": "fb3127ac",
   "metadata": {
    "code_folding": [
     0
    ]
   },
   "outputs": [
    {
     "name": "stdout",
     "output_type": "stream",
     "text": [
      "Difference in two means:  0.1798487083574809 \n",
      "\n",
      "Result of t-test:\n",
      "\n",
      " Ttest_indResult(statistic=12.886795324231006, pvalue=4.803480165928642e-38) \n",
      "\n",
      " Confidence Interval:\n",
      "\n",
      " (0.15190170068842118, 0.20779571602654062)\n"
     ]
    }
   ],
   "source": [
    "# Calculating differences in means, t test statistics and confidence intervals.\n",
    "\n",
    "diff = running_data[\"rating\"].mean() - soccer_data[\"rating\"].mean()\n",
    "\n",
    "confidence_level = 0.95\n",
    "\n",
    "result = stats.ttest_ind(running_data[\"rating\"], soccer_data[\"rating\"], alternative='greater', equal_var=True)\n",
    "\n",
    "degrees_of_freedom = len(running_data[\"rating\"]) + len(soccer_data[\"rating\"]) - 2\n",
    "\n",
    "conf_interval = stats.t.interval(confidence_level, degrees_of_freedom, loc=np.mean(running_data[\"rating\"]) - np.mean(soccer_data[\"rating\"]), scale=np.sqrt((np.var(running_data[\"rating\"], ddof=1) / len(running_data[\"rating\"])) + (np.var(soccer_data[\"rating\"], ddof=1) / len(soccer_data[\"rating\"]))))\n",
    "\n",
    "print(\"Difference in two means: \", diff, \"\\n\\nResult of t-test:\\n\\n\", result, \"\\n\\n Confidence Interval:\\n\\n\", conf_interval)"
   ]
  },
  {
   "cell_type": "markdown",
   "id": "ce6bdc49",
   "metadata": {},
   "source": [
    "**Since our observed p value is nearly 0, we can reject null hypothesis and with 95 % confidence infer than running podcasts have significantly higher mean rating than soccer podcasts across podcast reviews.**"
   ]
  },
  {
   "cell_type": "markdown",
   "id": "b8c9fc37",
   "metadata": {},
   "source": [
    "## Special Cases."
   ]
  },
  {
   "cell_type": "markdown",
   "id": "b69818cd",
   "metadata": {},
   "source": [
    "Since we still have a content of a review in our DataFrame it would be interesting to analyze a little fraction for it to test hypothesis. \n",
    "\n",
    "Internet slang often implies that a message with an **abundance of capital letters is likely to convey a negative tone.**\n",
    "\n",
    "The same can go with specials **(!? and etc)**. \n",
    "\n",
    "In this case we will take a look at our category data to test some hypothesis."
   ]
  },
  {
   "cell_type": "code",
   "execution_count": 37,
   "id": "4fa43195",
   "metadata": {},
   "outputs": [],
   "source": [
    "sports['capital_proportion'] = sports['content'].apply(lambda x: len(re.findall('[A-Z]', x)) / len(x) if len(x) > 0 else 0)\n",
    "sports['count_specials'] = sports['content'].apply(lambda x: len(re.findall('[^a-zA-Z0-9]', x)))"
   ]
  },
  {
   "cell_type": "markdown",
   "id": "43e53aec",
   "metadata": {},
   "source": [
    "### Mean capital letter proportion in the review content."
   ]
  },
  {
   "cell_type": "markdown",
   "id": "0b9489e1",
   "metadata": {},
   "source": [
    "First lets take a look at the aggregated pivot table to understand the trend."
   ]
  },
  {
   "cell_type": "code",
   "execution_count": 38,
   "id": "8084cbfc",
   "metadata": {
    "code_folding": [
     0
    ],
    "scrolled": false
   },
   "outputs": [
    {
     "data": {
      "image/png": "[encoded data removed]",
      "text/plain": [
       "<Figure size 1000x300 with 2 Axes>"
      ]
     },
     "metadata": {},
     "output_type": "display_data"
    }
   ],
   "source": [
    "# Code\n",
    "pivot_table = sports.pivot_table(\n",
    "    index=sports['category'],\n",
    "    columns=\"rating\",\n",
    "    values=\"capital_proportion\",\n",
    "    aggfunc=\"mean\",\n",
    ")\n",
    "\n",
    "pivot_table\n",
    "\n",
    "plt.figure(figsize=(10, 3))\n",
    "sns.heatmap(pivot_table, annot=True, cmap=\"RdBu\", fmt=\".3f\", linewidths=0.5)\n",
    "plt.title(\"\\nAverage capital proportion considering ratings and category\\n\")\n",
    "plt.xlabel(\"Rating\")\n",
    "plt.ylabel(\"Category\")\n",
    "\n",
    "plt.tight_layout()\n",
    "plt.show()"
   ]
  },
  {
   "cell_type": "markdown",
   "id": "305c6982",
   "metadata": {},
   "source": [
    "**It can be noted, that best rated (running) podcasts tend to have stable capital letter proportion numbers and tend to have lower capital letter proportion than running or soccer.**"
   ]
  },
  {
   "cell_type": "markdown",
   "id": "f7e89e4b",
   "metadata": {},
   "source": [
    "**Research Question:**\n",
    "Considering average capital propotion in the podcasts reviews, did running podcasts have significantly lower average capital letter proportion than the soccer podcasts?\n",
    "\n",
    "**Population**: Running and Soccer podcast reviews in the Podcast Reviews Data.  \n",
    "**Parameter of Interest**: $\\mu_1 - \\mu_2$, Average Capital Letter proportion.  \n",
    "**Null Hypothesis:** $\\mu_1 = \\mu_2$  \n",
    "**Alternative Hypthosis:** $\\mu_1 < \\mu_2$"
   ]
  },
  {
   "cell_type": "code",
   "execution_count": 394,
   "id": "fc496a18",
   "metadata": {
    "code_folding": [
     0
    ],
    "scrolled": true
   },
   "outputs": [
    {
     "name": "stdout",
     "output_type": "stream",
     "text": [
      "Result of two-sample t-test:\n",
      "Statistic: -20.453415064458255\n",
      "P-value: 1.073795597908101e-91\n"
     ]
    }
   ],
   "source": [
    "# Code\n",
    "running_data = sports[sports['category'] == 'running']\n",
    "soccer_data = sports[sports['category'] == 'soccer']\n",
    "\n",
    "result = ttest_ind(running_data['capital_proportion'], soccer_data['capital_proportion'], alternative='less')\n",
    "\n",
    "print(\"Result of two-sample t-test:\")\n",
    "print(\"Statistic:\", result.statistic)\n",
    "print(\"P-value:\", result.pvalue)"
   ]
  },
  {
   "cell_type": "markdown",
   "id": "22c3d95e",
   "metadata": {},
   "source": [
    "**P-value is extremely low, so it means we can reject Null hypothesis and with 95 % confidence infer that running podcast reviews have lower capital letter proportion. However, we cannot prelude that higher ratings are associated with lower capital proportion, because trend seem to go opposite.**"
   ]
  },
  {
   "cell_type": "markdown",
   "id": "0b376179",
   "metadata": {},
   "source": [
    "### Mean special character proportion in the review content."
   ]
  },
  {
   "cell_type": "markdown",
   "id": "cc44254e",
   "metadata": {},
   "source": [
    "First lets take a look at the aggregated pivot table to understand the trend."
   ]
  },
  {
   "cell_type": "code",
   "execution_count": 391,
   "id": "c3da3082",
   "metadata": {
    "code_folding": [
     0
    ],
    "scrolled": true
   },
   "outputs": [
    {
     "data": {
      "image/png": "[encoded data removed]",
      "text/plain": [
       "<Figure size 1000x300 with 2 Axes>"
      ]
     },
     "metadata": {},
     "output_type": "display_data"
    }
   ],
   "source": [
    "# Code\n",
    "pivot_table2 = sports.pivot_table(\n",
    "    index=sports['category'],\n",
    "    columns=\"rating\",\n",
    "    values=\"count_specials\",\n",
    "    aggfunc=\"mean\",\n",
    ")\n",
    "\n",
    "pivot_table\n",
    "\n",
    "plt.figure(figsize=(10, 3))\n",
    "sns.heatmap(pivot_table2, annot=True, cmap=\"RdBu\", fmt=\".3f\", linewidths=0.5)\n",
    "plt.title(\"\\nAverage count of specials considering ratings and category\\n\")\n",
    "plt.xlabel(\"Rating\")\n",
    "plt.ylabel(\"Category\")\n",
    "\n",
    "plt.tight_layout()\n",
    "plt.show()"
   ]
  },
  {
   "cell_type": "markdown",
   "id": "d97ef82d",
   "metadata": {},
   "source": [
    "It could be noted, that lowest values for special characters are observed at higher ratings, so we can assume that lower rated podcasts have more special characters in their review content. Let's try to prove it by dividing into bad rating(1-3) and good (4-5)."
   ]
  },
  {
   "cell_type": "markdown",
   "id": "828a0b6c",
   "metadata": {},
   "source": [
    "**Research Question:**\n",
    "Considering number of special characters in the podcasts reviews, did better rated podcasts had lower count of special characters than poorly rated podcasts?\n",
    "\n",
    "**Population**: Running, Soccer, Basketball podcast reviews in the Podcast Reviews Data.  \n",
    "**Parameter of Interest**: $\\mu_1 - \\mu_2$, Mean count of special characters.  \n",
    "**Null Hypothesis:** $\\mu_1 = \\mu_2$  \n",
    "**Alternative Hypthosis:** $\\mu_1 < \\mu_2$"
   ]
  },
  {
   "cell_type": "code",
   "execution_count": 399,
   "id": "c379e32c",
   "metadata": {
    "code_folding": [
     0
    ]
   },
   "outputs": [
    {
     "name": "stdout",
     "output_type": "stream",
     "text": [
      "Result of two-sample t-test:\n",
      "Statistic: -14.550227908934701\n",
      "P-value: 4.24808763312212e-48\n"
     ]
    }
   ],
   "source": [
    "# Code\n",
    "bad_ratings_data = sports[(sports['rating'] >= 1) & (sports['rating'] <= 3)]\n",
    "good_ratings_data = sports[(sports['rating'] >= 4) & (sports['rating'] <= 5)]\n",
    "\n",
    "proportion_bad = bad_ratings_data['count_specials']\n",
    "proportion_good = good_ratings_data['count_specials']\n",
    "\n",
    "result = stats.ttest_ind(proportion_good, proportion_bad, alternative='less')\n",
    "\n",
    "print(\"Result of two-sample t-test:\")\n",
    "print(\"Statistic:\", result.statistic)\n",
    "print(\"P-value:\", result.pvalue)"
   ]
  },
  {
   "cell_type": "markdown",
   "id": "96321462",
   "metadata": {},
   "source": [
    "**Result provides strong evidence that podcasts with good ratings tend to have a lower mean proportion of special characters in their reviews compared to podcasts with bad ratings**."
   ]
  },
  {
   "cell_type": "markdown",
   "id": "d8de5f1b",
   "metadata": {},
   "source": [
    "# Google Looker Studio Dashboard."
   ]
  },
  {
   "cell_type": "markdown",
   "id": "8bb739c6",
   "metadata": {},
   "source": [
    "[Link to the Dashboard](https://lookerstudio.google.com/reporting/497639c0-b7c8-4d88-a1e6-21323f6e8b18/page/0wUaD)"
   ]
  },
  {
   "cell_type": "markdown",
   "id": "ee9f37b8",
   "metadata": {},
   "source": [
    "# Areas for improvement."
   ]
  },
  {
   "cell_type": "markdown",
   "id": "48c7e9b8",
   "metadata": {},
   "source": [
    "1. For the next opportunity, such as a Capstone project, consider delving deeper into a specific area of interest, like focusing exclusively on running podcasts.\n",
    "\n",
    "2. Try Polars package (for better computation speeds).\n",
    "\n",
    "3. Use NLP packagages for review content analysis."
   ]
  },
  {
   "cell_type": "markdown",
   "id": "525321c1",
   "metadata": {},
   "source": [
    "# General Conclusions."
   ]
  },
  {
   "cell_type": "markdown",
   "id": "a0fb0422",
   "metadata": {},
   "source": [
    "**Whole dataset:**\n",
    "\n",
    "1. The podcasts that appear most frequently in the dataset typically receive fewer than 5000 total reviews, with an average rating around 3.5 and above 4.5.\n",
    "2. Crime Junkie stands out as the most popular podcast, and interestingly, there's a trend where podcasts with the highest number of views tend to have lower ratings.\n",
    "\n",
    "\n",
    "**For the area of interest:**\n",
    "\n",
    "1. On average each basketball, soccer, running podcast is reviewed 24, 12, 40 times respectively.\n",
    "2. 60% of podcast (considering only basketball, soccer, running) reviews are about basketball.\n",
    "3. Running podcasts are more and better reviewed/ rated than others.\n",
    "4. In all categories, a minimum of 75% of ratings are scored as 5.\n",
    "5. Ratings for running podcasts display the least variability among all categories, often indicating higher quality content.\n",
    "6. While soccer podcasts are produced at a similar rate to basketball podcasts, they tend to receive significantly fewer reviews.\n",
    "7. There is a high variability in total review numbers, what indicates that some podcasts are a lot better than the other.\n",
    "8. Mean ratings deteriorated for all categories starting from 2021.\n",
    "9.  Basketball podcasts (within this dataset) have significantly lower mean ratings than soccer podcasts.\n",
    "10. Running podcasts (within this dataset) have significantly higher mean ratings than soccer podcasts.\n",
    "11. Podcasts with good ratings tend to have a lower proportion of special characters in their reviews compared to podcasts with bad ratings."
   ]
  },
  {
   "cell_type": "markdown",
   "id": "f276eacf",
   "metadata": {},
   "source": [
    "<img src=\"https://t3.ftcdn.net/jpg/02/91/52/22/240_F_291522205_XkrmS421FjSGTMRdTrqFZPxDY19VxpmL.jpg\" alt=\"study\" width=\"400\">\n"
   ]
  }
 ],
 "metadata": {
  "kernelspec": {
   "display_name": "Python 3 (ipykernel)",
   "language": "python",
   "name": "python3"
  },
  "language_info": {
   "codemirror_mode": {
    "name": "ipython",
    "version": 3
   },
   "file_extension": ".py",
   "mimetype": "text/x-python",
   "name": "python",
   "nbconvert_exporter": "python",
   "pygments_lexer": "ipython3",
   "version": "3.10.8"
  },
  "toc": {
   "base_numbering": 1,
   "nav_menu": {},
   "number_sections": true,
   "sideBar": true,
   "skip_h1_title": false,
   "title_cell": "Table of Contents",
   "title_sidebar": "Contents",
   "toc_cell": false,
   "toc_position": {
    "height": "calc(100% - 180px)",
    "left": "10px",
    "top": "150px",
    "width": "303.641px"
   },
   "toc_section_display": true,
   "toc_window_display": false
  }
 },
 "nbformat": 4,
 "nbformat_minor": 5
}
